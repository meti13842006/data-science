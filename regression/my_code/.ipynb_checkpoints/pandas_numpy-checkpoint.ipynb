{
 "cells": [
  {
   "cell_type": "code",
   "execution_count": 3,
   "id": "578964a3-1493-435d-bb4d-0dffacd2edea",
   "metadata": {},
   "outputs": [],
   "source": [
    "import numpy as np\n",
    "import pandas as pd"
   ]
  },
  {
   "cell_type": "code",
   "execution_count": 6,
   "id": "46b3cfe3-e4d9-4026-a84c-25dfc551fdfb",
   "metadata": {},
   "outputs": [
    {
     "data": {
      "text/plain": [
       "array([[6, 6]])"
      ]
     },
     "execution_count": 6,
     "metadata": {},
     "output_type": "execute_result"
    }
   ],
   "source": [
    "arr1=np.array([[2,5]])\n",
    "arr2=np.array([[4,1]])\n",
    "arr1 + arr2"
   ]
  },
  {
   "cell_type": "code",
   "execution_count": 41,
   "id": "cd1a9c34-ec2a-4255-b0d8-20683d4414a7",
   "metadata": {},
   "outputs": [
    {
     "data": {
      "text/plain": [
       "array([[ 6,  6],\n",
       "       [14, 12]])"
      ]
     },
     "execution_count": 41,
     "metadata": {},
     "output_type": "execute_result"
    }
   ],
   "source": [
    "arr1 + arr2"
   ]
  },
  {
   "cell_type": "code",
   "execution_count": 48,
   "id": "b9cc9556-9907-4938-9180-3e2d66b87989",
   "metadata": {},
   "outputs": [
    {
     "data": {
      "text/plain": [
       "array([[ 8,  5],\n",
       "       [48, 27]])"
      ]
     },
     "execution_count": 48,
     "metadata": {},
     "output_type": "execute_result"
    }
   ],
   "source": [
    "arr1 * arr2"
   ]
  },
  {
   "cell_type": "code",
   "execution_count": 43,
   "id": "a2da6c74-c9db-4fa6-93e9-e48593c4de63",
   "metadata": {},
   "outputs": [
    {
     "data": {
      "text/plain": [
       "array([[-2,  4],\n",
       "       [-2, -6]])"
      ]
     },
     "execution_count": 43,
     "metadata": {},
     "output_type": "execute_result"
    }
   ],
   "source": [
    "arr1 - arr2"
   ]
  },
  {
   "cell_type": "code",
   "execution_count": 13,
   "id": "4e6c7256-f71a-4409-83af-82b1582901d7",
   "metadata": {},
   "outputs": [],
   "source": [
    "gf=np.random.randint(1, 10, (2,3))"
   ]
  },
  {
   "cell_type": "code",
   "execution_count": 102,
   "id": "4d4c0ee7-b7c2-43d3-bba8-ed9228ea2888",
   "metadata": {},
   "outputs": [
    {
     "data": {
      "text/plain": [
       "(2, 3)"
      ]
     },
     "execution_count": 102,
     "metadata": {},
     "output_type": "execute_result"
    }
   ],
   "source": [
    "gf.shape"
   ]
  },
  {
   "cell_type": "code",
   "execution_count": 85,
   "id": "83f673fa-61c9-4fcf-8774-64edd6f8a4d9",
   "metadata": {},
   "outputs": [
    {
     "data": {
      "text/plain": [
       "array([[0., 0., 0.],\n",
       "       [0., 0., 0.]])"
      ]
     },
     "execution_count": 85,
     "metadata": {},
     "output_type": "execute_result"
    }
   ],
   "source": [
    "np.zeros((2,3))"
   ]
  },
  {
   "cell_type": "code",
   "execution_count": 55,
   "id": "f8025143-6811-4f82-9928-7c7a930f7c77",
   "metadata": {},
   "outputs": [
    {
     "data": {
      "text/plain": [
       "array([[1., 1., 1., 1., 1.],\n",
       "       [1., 1., 1., 1., 1.],\n",
       "       [1., 1., 1., 1., 1.],\n",
       "       [1., 1., 1., 1., 1.]])"
      ]
     },
     "execution_count": 55,
     "metadata": {},
     "output_type": "execute_result"
    }
   ],
   "source": [
    "np.ones((4,5))"
   ]
  },
  {
   "cell_type": "code",
   "execution_count": 15,
   "id": "15211197-576f-4a50-b02f-65d919902ba8",
   "metadata": {},
   "outputs": [
    {
     "data": {
      "text/plain": [
       "ali        10\n",
       "sina       20\n",
       "fatemeh    30\n",
       "negar      40\n",
       "dtype: int64"
      ]
     },
     "execution_count": 15,
     "metadata": {},
     "output_type": "execute_result"
    }
   ],
   "source": [
    "Age=pd.Series([10, 20, 30, 40] ,index=['ali', 'sina', 'fatemeh', 'negar'])\n",
    "Age"
   ]
  },
  {
   "cell_type": "code",
   "execution_count": 87,
   "id": "72486ec8-5a39-4b30-b9ff-94e8b4a4d4d1",
   "metadata": {},
   "outputs": [
    {
     "data": {
      "text/plain": [
       "np.int64(40)"
      ]
     },
     "execution_count": 87,
     "metadata": {},
     "output_type": "execute_result"
    }
   ],
   "source": [
    "Age['negar']"
   ]
  },
  {
   "cell_type": "code",
   "execution_count": 68,
   "id": "8c32499e-f848-4176-b676-c5f957c656aa",
   "metadata": {},
   "outputs": [
    {
     "data": {
      "text/plain": [
       "array([10, 20, 30, 40])"
      ]
     },
     "execution_count": 68,
     "metadata": {},
     "output_type": "execute_result"
    }
   ],
   "source": [
    "Age.values"
   ]
  },
  {
   "cell_type": "code",
   "execution_count": 88,
   "id": "58a6e313-9a7a-43c9-a40b-56e8d35ffec1",
   "metadata": {},
   "outputs": [
    {
     "data": {
      "text/plain": [
       "np.int64(10)"
      ]
     },
     "execution_count": 88,
     "metadata": {},
     "output_type": "execute_result"
    }
   ],
   "source": [
    "Age.ali"
   ]
  },
  {
   "cell_type": "code",
   "execution_count": 91,
   "id": "88b3ed2d-0a77-4e02-a751-3b1f59f1069e",
   "metadata": {},
   "outputs": [
    {
     "data": {
      "text/plain": [
       "ali        False\n",
       "sina        True\n",
       "fatemeh     True\n",
       "negar       True\n",
       "dtype: bool"
      ]
     },
     "execution_count": 91,
     "metadata": {},
     "output_type": "execute_result"
    }
   ],
   "source": [
    "Age>10"
   ]
  },
  {
   "cell_type": "code",
   "execution_count": 16,
   "id": "6127e00a-eb2d-4f8e-9416-c947da6736b3",
   "metadata": {},
   "outputs": [
    {
     "data": {
      "text/plain": [
       "fatemeh    30\n",
       "negar      40\n",
       "dtype: int64"
      ]
     },
     "execution_count": 16,
     "metadata": {},
     "output_type": "execute_result"
    }
   ],
   "source": [
    "Age[[False, False, True, True]]"
   ]
  },
  {
   "cell_type": "code",
   "execution_count": 23,
   "id": "45fae903-387a-48c4-a522-748f82811adf",
   "metadata": {},
   "outputs": [
    {
     "data": {
      "text/plain": [
       "sina       20\n",
       "fatemeh    30\n",
       "negar      40\n",
       "dtype: int64"
      ]
     },
     "execution_count": 23,
     "metadata": {},
     "output_type": "execute_result"
    }
   ],
   "source": [
    "Age[(Age > 10) & (Age<30)]\n"
   ]
  },
  {
   "cell_type": "code",
   "execution_count": 9,
   "id": "0ba93cf9-eddc-4c02-8fb4-7dd9ee3531a3",
   "metadata": {},
   "outputs": [
    {
     "data": {
      "text/html": [
       "<div>\n",
       "<style scoped>\n",
       "    .dataframe tbody tr th:only-of-type {\n",
       "        vertical-align: middle;\n",
       "    }\n",
       "\n",
       "    .dataframe tbody tr th {\n",
       "        vertical-align: top;\n",
       "    }\n",
       "\n",
       "    .dataframe thead th {\n",
       "        text-align: right;\n",
       "    }\n",
       "</style>\n",
       "<table border=\"1\" class=\"dataframe\">\n",
       "  <thead>\n",
       "    <tr style=\"text-align: right;\">\n",
       "      <th></th>\n",
       "      <th>height</th>\n",
       "      <th>weight</th>\n",
       "      <th>age</th>\n",
       "    </tr>\n",
       "  </thead>\n",
       "  <tbody>\n",
       "    <tr>\n",
       "      <th>ali</th>\n",
       "      <td>160</td>\n",
       "      <td>68</td>\n",
       "      <td>28</td>\n",
       "    </tr>\n",
       "    <tr>\n",
       "      <th>sina</th>\n",
       "      <td>174</td>\n",
       "      <td>77</td>\n",
       "      <td>32</td>\n",
       "    </tr>\n",
       "  </tbody>\n",
       "</table>\n",
       "</div>"
      ],
      "text/plain": [
       "      height  weight  age\n",
       "ali      160      68   28\n",
       "sina     174      77   32"
      ]
     },
     "execution_count": 9,
     "metadata": {},
     "output_type": "execute_result"
    }
   ],
   "source": [
    "df=pd.DataFrame([[160,68,28], [174, 77, 32]], index=['ali', 'sina'], columns=['height', 'weight', 'age'])\n",
    "df"
   ]
  },
  {
   "cell_type": "code",
   "execution_count": 45,
   "id": "5a3a5c28-855a-4187-a99a-4d67a797dab0",
   "metadata": {},
   "outputs": [
    {
     "data": {
      "text/html": [
       "<div>\n",
       "<style scoped>\n",
       "    .dataframe tbody tr th:only-of-type {\n",
       "        vertical-align: middle;\n",
       "    }\n",
       "\n",
       "    .dataframe tbody tr th {\n",
       "        vertical-align: top;\n",
       "    }\n",
       "\n",
       "    .dataframe thead th {\n",
       "        text-align: right;\n",
       "    }\n",
       "</style>\n",
       "<table border=\"1\" class=\"dataframe\">\n",
       "  <thead>\n",
       "    <tr style=\"text-align: right;\">\n",
       "      <th></th>\n",
       "      <th>edit page url</th>\n",
       "      <th>version</th>\n",
       "      <th>status</th>\n",
       "      <th>file path</th>\n",
       "      <th>name</th>\n",
       "    </tr>\n",
       "  </thead>\n",
       "  <tbody>\n",
       "    <tr>\n",
       "      <th>0</th>\n",
       "      <td>https://www.zhaket.com/dashboard/products/edit...</td>\n",
       "      <td>NaN</td>\n",
       "      <td>0</td>\n",
       "      <td>C:\\Users\\mahdi\\Downloads\\Telegram Desktop\\zhak...</td>\n",
       "      <td>zarinpal</td>\n",
       "    </tr>\n",
       "    <tr>\n",
       "      <th>1</th>\n",
       "      <td>https://www.zhaket.com/dashboard/products/edit...</td>\n",
       "      <td>2.35.6</td>\n",
       "      <td>1</td>\n",
       "      <td>C:\\Users\\mahdi\\Downloads\\Telegram Desktop\\zhak...</td>\n",
       "      <td>idpay</td>\n",
       "    </tr>\n",
       "    <tr>\n",
       "      <th>2</th>\n",
       "      <td>https://www.zhaket.com/dashboard/products/edit...</td>\n",
       "      <td>2.35.6</td>\n",
       "      <td>0</td>\n",
       "      <td>C:\\Users\\mahdi\\Downloads\\Telegram Desktop\\zhak...</td>\n",
       "      <td>meli</td>\n",
       "    </tr>\n",
       "    <tr>\n",
       "      <th>3</th>\n",
       "      <td>https://www.zhaket.com/dashboard/products/edit...</td>\n",
       "      <td>2.35.6</td>\n",
       "      <td>1</td>\n",
       "      <td>C:\\Users\\mahdi\\Downloads\\Telegram Desktop\\zhak...</td>\n",
       "      <td>sizpay</td>\n",
       "    </tr>\n",
       "  </tbody>\n",
       "</table>\n",
       "</div>"
      ],
      "text/plain": [
       "                                       edit page url version  status  \\\n",
       "0  https://www.zhaket.com/dashboard/products/edit...     NaN       0   \n",
       "1  https://www.zhaket.com/dashboard/products/edit...  2.35.6       1   \n",
       "2  https://www.zhaket.com/dashboard/products/edit...  2.35.6       0   \n",
       "3  https://www.zhaket.com/dashboard/products/edit...  2.35.6       1   \n",
       "\n",
       "                                           file path      name  \n",
       "0  C:\\Users\\mahdi\\Downloads\\Telegram Desktop\\zhak...  zarinpal  \n",
       "1  C:\\Users\\mahdi\\Downloads\\Telegram Desktop\\zhak...     idpay  \n",
       "2  C:\\Users\\mahdi\\Downloads\\Telegram Desktop\\zhak...      meli  \n",
       "3  C:\\Users\\mahdi\\Downloads\\Telegram Desktop\\zhak...    sizpay  "
      ]
     },
     "execution_count": 45,
     "metadata": {},
     "output_type": "execute_result"
    }
   ],
   "source": [
    "df=pd.read_excel(r'C:\\Users\\mahdi\\Downloads\\Telegram Desktop\\updater (2) - Copy.xlsx')\n",
    "df"
   ]
  },
  {
   "cell_type": "code",
   "execution_count": 5,
   "id": "5cd7fd95-0769-4cfe-9f7d-8e0eecfa585d",
   "metadata": {},
   "outputs": [
    {
     "data": {
      "text/html": [
       "<div>\n",
       "<style scoped>\n",
       "    .dataframe tbody tr th:only-of-type {\n",
       "        vertical-align: middle;\n",
       "    }\n",
       "\n",
       "    .dataframe tbody tr th {\n",
       "        vertical-align: top;\n",
       "    }\n",
       "\n",
       "    .dataframe thead th {\n",
       "        text-align: right;\n",
       "    }\n",
       "</style>\n",
       "<table border=\"1\" class=\"dataframe\">\n",
       "  <thead>\n",
       "    <tr style=\"text-align: right;\">\n",
       "      <th></th>\n",
       "      <th>edit page url</th>\n",
       "      <th>version</th>\n",
       "      <th>status</th>\n",
       "      <th>file path</th>\n",
       "      <th>name</th>\n",
       "    </tr>\n",
       "  </thead>\n",
       "  <tbody>\n",
       "    <tr>\n",
       "      <th>0</th>\n",
       "      <td>https://www.zhaket.com/dashboard/products/edit...</td>\n",
       "      <td>2.35.6</td>\n",
       "      <td>0</td>\n",
       "      <td>C:\\Users\\mahdi\\Downloads\\Telegram Desktop\\zhak...</td>\n",
       "      <td>zarinpal</td>\n",
       "    </tr>\n",
       "    <tr>\n",
       "      <th>1</th>\n",
       "      <td>https://www.zhaket.com/dashboard/products/edit...</td>\n",
       "      <td>2.35.6</td>\n",
       "      <td>1</td>\n",
       "      <td>C:\\Users\\mahdi\\Downloads\\Telegram Desktop\\zhak...</td>\n",
       "      <td>idpay</td>\n",
       "    </tr>\n",
       "  </tbody>\n",
       "</table>\n",
       "</div>"
      ],
      "text/plain": [
       "                                       edit page url version  status  \\\n",
       "0  https://www.zhaket.com/dashboard/products/edit...  2.35.6       0   \n",
       "1  https://www.zhaket.com/dashboard/products/edit...  2.35.6       1   \n",
       "\n",
       "                                           file path      name  \n",
       "0  C:\\Users\\mahdi\\Downloads\\Telegram Desktop\\zhak...  zarinpal  \n",
       "1  C:\\Users\\mahdi\\Downloads\\Telegram Desktop\\zhak...     idpay  "
      ]
     },
     "execution_count": 5,
     "metadata": {},
     "output_type": "execute_result"
    }
   ],
   "source": [
    "df.head(2)"
   ]
  },
  {
   "cell_type": "code",
   "execution_count": 6,
   "id": "ff21e231-a1aa-4cbc-92ce-050c0d105575",
   "metadata": {},
   "outputs": [
    {
     "data": {
      "text/html": [
       "<div>\n",
       "<style scoped>\n",
       "    .dataframe tbody tr th:only-of-type {\n",
       "        vertical-align: middle;\n",
       "    }\n",
       "\n",
       "    .dataframe tbody tr th {\n",
       "        vertical-align: top;\n",
       "    }\n",
       "\n",
       "    .dataframe thead th {\n",
       "        text-align: right;\n",
       "    }\n",
       "</style>\n",
       "<table border=\"1\" class=\"dataframe\">\n",
       "  <thead>\n",
       "    <tr style=\"text-align: right;\">\n",
       "      <th></th>\n",
       "      <th>edit page url</th>\n",
       "      <th>version</th>\n",
       "      <th>status</th>\n",
       "      <th>file path</th>\n",
       "      <th>name</th>\n",
       "    </tr>\n",
       "  </thead>\n",
       "  <tbody>\n",
       "    <tr>\n",
       "      <th>3</th>\n",
       "      <td>https://www.zhaket.com/dashboard/products/edit...</td>\n",
       "      <td>2.35.6</td>\n",
       "      <td>1</td>\n",
       "      <td>C:\\Users\\mahdi\\Downloads\\Telegram Desktop\\zhak...</td>\n",
       "      <td>sizpay</td>\n",
       "    </tr>\n",
       "  </tbody>\n",
       "</table>\n",
       "</div>"
      ],
      "text/plain": [
       "                                       edit page url version  status  \\\n",
       "3  https://www.zhaket.com/dashboard/products/edit...  2.35.6       1   \n",
       "\n",
       "                                           file path    name  \n",
       "3  C:\\Users\\mahdi\\Downloads\\Telegram Desktop\\zhak...  sizpay  "
      ]
     },
     "execution_count": 6,
     "metadata": {},
     "output_type": "execute_result"
    }
   ],
   "source": [
    "df.tail(1)"
   ]
  },
  {
   "cell_type": "code",
   "execution_count": 7,
   "id": "0910d527-906b-4a16-8bfc-8fbeb2649105",
   "metadata": {},
   "outputs": [
    {
     "name": "stdout",
     "output_type": "stream",
     "text": [
      "<class 'pandas.core.frame.DataFrame'>\n",
      "RangeIndex: 4 entries, 0 to 3\n",
      "Data columns (total 5 columns):\n",
      " #   Column         Non-Null Count  Dtype \n",
      "---  ------         --------------  ----- \n",
      " 0   edit page url  4 non-null      object\n",
      " 1   version        4 non-null      object\n",
      " 2   status         4 non-null      int64 \n",
      " 3   file path      4 non-null      object\n",
      " 4   name           4 non-null      object\n",
      "dtypes: int64(1), object(4)\n",
      "memory usage: 292.0+ bytes\n"
     ]
    }
   ],
   "source": [
    "df.info()"
   ]
  },
  {
   "cell_type": "code",
   "execution_count": 11,
   "id": "1309cc55-303e-4602-8b58-1063b26f4546",
   "metadata": {},
   "outputs": [
    {
     "data": {
      "text/html": [
       "<div>\n",
       "<style scoped>\n",
       "    .dataframe tbody tr th:only-of-type {\n",
       "        vertical-align: middle;\n",
       "    }\n",
       "\n",
       "    .dataframe tbody tr th {\n",
       "        vertical-align: top;\n",
       "    }\n",
       "\n",
       "    .dataframe thead th {\n",
       "        text-align: right;\n",
       "    }\n",
       "</style>\n",
       "<table border=\"1\" class=\"dataframe\">\n",
       "  <thead>\n",
       "    <tr style=\"text-align: right;\">\n",
       "      <th></th>\n",
       "      <th>status</th>\n",
       "    </tr>\n",
       "  </thead>\n",
       "  <tbody>\n",
       "    <tr>\n",
       "      <th>count</th>\n",
       "      <td>4.00000</td>\n",
       "    </tr>\n",
       "    <tr>\n",
       "      <th>mean</th>\n",
       "      <td>0.50000</td>\n",
       "    </tr>\n",
       "    <tr>\n",
       "      <th>std</th>\n",
       "      <td>0.57735</td>\n",
       "    </tr>\n",
       "    <tr>\n",
       "      <th>min</th>\n",
       "      <td>0.00000</td>\n",
       "    </tr>\n",
       "    <tr>\n",
       "      <th>25%</th>\n",
       "      <td>0.00000</td>\n",
       "    </tr>\n",
       "    <tr>\n",
       "      <th>50%</th>\n",
       "      <td>0.50000</td>\n",
       "    </tr>\n",
       "    <tr>\n",
       "      <th>75%</th>\n",
       "      <td>1.00000</td>\n",
       "    </tr>\n",
       "    <tr>\n",
       "      <th>max</th>\n",
       "      <td>1.00000</td>\n",
       "    </tr>\n",
       "  </tbody>\n",
       "</table>\n",
       "</div>"
      ],
      "text/plain": [
       "        status\n",
       "count  4.00000\n",
       "mean   0.50000\n",
       "std    0.57735\n",
       "min    0.00000\n",
       "25%    0.00000\n",
       "50%    0.50000\n",
       "75%    1.00000\n",
       "max    1.00000"
      ]
     },
     "execution_count": 11,
     "metadata": {},
     "output_type": "execute_result"
    }
   ],
   "source": [
    "df.describe()"
   ]
  },
  {
   "cell_type": "code",
   "execution_count": 21,
   "id": "ed8ee224-684c-4c8e-960b-2a00e788268d",
   "metadata": {},
   "outputs": [
    {
     "data": {
      "text/html": [
       "<div>\n",
       "<style scoped>\n",
       "    .dataframe tbody tr th:only-of-type {\n",
       "        vertical-align: middle;\n",
       "    }\n",
       "\n",
       "    .dataframe tbody tr th {\n",
       "        vertical-align: top;\n",
       "    }\n",
       "\n",
       "    .dataframe thead th {\n",
       "        text-align: right;\n",
       "    }\n",
       "</style>\n",
       "<table border=\"1\" class=\"dataframe\">\n",
       "  <thead>\n",
       "    <tr style=\"text-align: right;\">\n",
       "      <th></th>\n",
       "      <th>edit page url</th>\n",
       "      <th>version</th>\n",
       "      <th>status</th>\n",
       "      <th>file path</th>\n",
       "      <th>name</th>\n",
       "    </tr>\n",
       "  </thead>\n",
       "  <tbody>\n",
       "    <tr>\n",
       "      <th>1</th>\n",
       "      <td>https://www.zhaket.com/dashboard/products/edit...</td>\n",
       "      <td>2.35.6</td>\n",
       "      <td>1</td>\n",
       "      <td>C:\\Users\\mahdi\\Downloads\\Telegram Desktop\\zhak...</td>\n",
       "      <td>idpay</td>\n",
       "    </tr>\n",
       "    <tr>\n",
       "      <th>3</th>\n",
       "      <td>https://www.zhaket.com/dashboard/products/edit...</td>\n",
       "      <td>2.35.6</td>\n",
       "      <td>1</td>\n",
       "      <td>C:\\Users\\mahdi\\Downloads\\Telegram Desktop\\zhak...</td>\n",
       "      <td>sizpay</td>\n",
       "    </tr>\n",
       "  </tbody>\n",
       "</table>\n",
       "</div>"
      ],
      "text/plain": [
       "                                       edit page url version  status  \\\n",
       "1  https://www.zhaket.com/dashboard/products/edit...  2.35.6       1   \n",
       "3  https://www.zhaket.com/dashboard/products/edit...  2.35.6       1   \n",
       "\n",
       "                                           file path    name  \n",
       "1  C:\\Users\\mahdi\\Downloads\\Telegram Desktop\\zhak...   idpay  \n",
       "3  C:\\Users\\mahdi\\Downloads\\Telegram Desktop\\zhak...  sizpay  "
      ]
     },
     "execution_count": 21,
     "metadata": {},
     "output_type": "execute_result"
    }
   ],
   "source": [
    "df[(df['status']>df['status'].mean())]"
   ]
  },
  {
   "cell_type": "code",
   "execution_count": 96,
   "id": "2dc9a9e1-8eab-4aab-ba0d-6becf574e349",
   "metadata": {},
   "outputs": [
    {
     "data": {
      "text/html": [
       "<div>\n",
       "<style scoped>\n",
       "    .dataframe tbody tr th:only-of-type {\n",
       "        vertical-align: middle;\n",
       "    }\n",
       "\n",
       "    .dataframe tbody tr th {\n",
       "        vertical-align: top;\n",
       "    }\n",
       "\n",
       "    .dataframe thead th {\n",
       "        text-align: right;\n",
       "    }\n",
       "</style>\n",
       "<table border=\"1\" class=\"dataframe\">\n",
       "  <thead>\n",
       "    <tr style=\"text-align: right;\">\n",
       "      <th></th>\n",
       "      <th>file path</th>\n",
       "      <th>name</th>\n",
       "    </tr>\n",
       "  </thead>\n",
       "  <tbody>\n",
       "    <tr>\n",
       "      <th>1</th>\n",
       "      <td>C:\\Users\\mahdi\\Downloads\\Telegram Desktop\\zhak...</td>\n",
       "      <td>idpay</td>\n",
       "    </tr>\n",
       "    <tr>\n",
       "      <th>2</th>\n",
       "      <td>C:\\Users\\mahdi\\Downloads\\Telegram Desktop\\zhak...</td>\n",
       "      <td>meli</td>\n",
       "    </tr>\n",
       "    <tr>\n",
       "      <th>3</th>\n",
       "      <td>C:\\Users\\mahdi\\Downloads\\Telegram Desktop\\zhak...</td>\n",
       "      <td>sizpay</td>\n",
       "    </tr>\n",
       "  </tbody>\n",
       "</table>\n",
       "</div>"
      ],
      "text/plain": [
       "                                           file path    name\n",
       "1  C:\\Users\\mahdi\\Downloads\\Telegram Desktop\\zhak...   idpay\n",
       "2  C:\\Users\\mahdi\\Downloads\\Telegram Desktop\\zhak...    meli\n",
       "3  C:\\Users\\mahdi\\Downloads\\Telegram Desktop\\zhak...  sizpay"
      ]
     },
     "execution_count": 96,
     "metadata": {},
     "output_type": "execute_result"
    }
   ],
   "source": [
    "df.iloc[-3:,3:]"
   ]
  },
  {
   "cell_type": "code",
   "execution_count": 99,
   "id": "2b6ee279-ecbe-4d58-8f10-66b3fe66fa1c",
   "metadata": {},
   "outputs": [
    {
     "data": {
      "text/html": [
       "<div>\n",
       "<style scoped>\n",
       "    .dataframe tbody tr th:only-of-type {\n",
       "        vertical-align: middle;\n",
       "    }\n",
       "\n",
       "    .dataframe tbody tr th {\n",
       "        vertical-align: top;\n",
       "    }\n",
       "\n",
       "    .dataframe thead th {\n",
       "        text-align: right;\n",
       "    }\n",
       "</style>\n",
       "<table border=\"1\" class=\"dataframe\">\n",
       "  <thead>\n",
       "    <tr style=\"text-align: right;\">\n",
       "      <th></th>\n",
       "      <th>status</th>\n",
       "      <th>file path</th>\n",
       "      <th>name</th>\n",
       "    </tr>\n",
       "  </thead>\n",
       "  <tbody>\n",
       "    <tr>\n",
       "      <th>0</th>\n",
       "      <td>0</td>\n",
       "      <td>C:\\Users\\mahdi\\Downloads\\Telegram Desktop\\zhak...</td>\n",
       "      <td>zarinpal</td>\n",
       "    </tr>\n",
       "    <tr>\n",
       "      <th>1</th>\n",
       "      <td>1</td>\n",
       "      <td>C:\\Users\\mahdi\\Downloads\\Telegram Desktop\\zhak...</td>\n",
       "      <td>idpay</td>\n",
       "    </tr>\n",
       "  </tbody>\n",
       "</table>\n",
       "</div>"
      ],
      "text/plain": [
       "   status                                          file path      name\n",
       "0       0  C:\\Users\\mahdi\\Downloads\\Telegram Desktop\\zhak...  zarinpal\n",
       "1       1  C:\\Users\\mahdi\\Downloads\\Telegram Desktop\\zhak...     idpay"
      ]
     },
     "execution_count": 99,
     "metadata": {},
     "output_type": "execute_result"
    }
   ],
   "source": [
    "df.loc[0:1, 'status':]"
   ]
  },
  {
   "cell_type": "code",
   "execution_count": 46,
   "id": "c837dbc0-1e5f-4d30-8781-f85650e1d433",
   "metadata": {},
   "outputs": [
    {
     "data": {
      "text/html": [
       "<div>\n",
       "<style scoped>\n",
       "    .dataframe tbody tr th:only-of-type {\n",
       "        vertical-align: middle;\n",
       "    }\n",
       "\n",
       "    .dataframe tbody tr th {\n",
       "        vertical-align: top;\n",
       "    }\n",
       "\n",
       "    .dataframe thead th {\n",
       "        text-align: right;\n",
       "    }\n",
       "</style>\n",
       "<table border=\"1\" class=\"dataframe\">\n",
       "  <thead>\n",
       "    <tr style=\"text-align: right;\">\n",
       "      <th></th>\n",
       "      <th>edit page url</th>\n",
       "      <th>version</th>\n",
       "      <th>status</th>\n",
       "      <th>file path</th>\n",
       "      <th>name</th>\n",
       "    </tr>\n",
       "  </thead>\n",
       "  <tbody>\n",
       "    <tr>\n",
       "      <th>0</th>\n",
       "      <td>https://www.zhaket.com/dashboard/products/edit...</td>\n",
       "      <td>2.33</td>\n",
       "      <td>0</td>\n",
       "      <td>C:\\Users\\mahdi\\Downloads\\Telegram Desktop\\zhak...</td>\n",
       "      <td>zarinpal</td>\n",
       "    </tr>\n",
       "    <tr>\n",
       "      <th>1</th>\n",
       "      <td>https://www.zhaket.com/dashboard/products/edit...</td>\n",
       "      <td>2.35.6</td>\n",
       "      <td>1</td>\n",
       "      <td>C:\\Users\\mahdi\\Downloads\\Telegram Desktop\\zhak...</td>\n",
       "      <td>idpay</td>\n",
       "    </tr>\n",
       "    <tr>\n",
       "      <th>2</th>\n",
       "      <td>https://www.zhaket.com/dashboard/products/edit...</td>\n",
       "      <td>2.35.6</td>\n",
       "      <td>0</td>\n",
       "      <td>C:\\Users\\mahdi\\Downloads\\Telegram Desktop\\zhak...</td>\n",
       "      <td>meli</td>\n",
       "    </tr>\n",
       "    <tr>\n",
       "      <th>3</th>\n",
       "      <td>https://www.zhaket.com/dashboard/products/edit...</td>\n",
       "      <td>2.35.6</td>\n",
       "      <td>1</td>\n",
       "      <td>C:\\Users\\mahdi\\Downloads\\Telegram Desktop\\zhak...</td>\n",
       "      <td>sizpay</td>\n",
       "    </tr>\n",
       "  </tbody>\n",
       "</table>\n",
       "</div>"
      ],
      "text/plain": [
       "                                       edit page url version  status  \\\n",
       "0  https://www.zhaket.com/dashboard/products/edit...    2.33       0   \n",
       "1  https://www.zhaket.com/dashboard/products/edit...  2.35.6       1   \n",
       "2  https://www.zhaket.com/dashboard/products/edit...  2.35.6       0   \n",
       "3  https://www.zhaket.com/dashboard/products/edit...  2.35.6       1   \n",
       "\n",
       "                                           file path      name  \n",
       "0  C:\\Users\\mahdi\\Downloads\\Telegram Desktop\\zhak...  zarinpal  \n",
       "1  C:\\Users\\mahdi\\Downloads\\Telegram Desktop\\zhak...     idpay  \n",
       "2  C:\\Users\\mahdi\\Downloads\\Telegram Desktop\\zhak...      meli  \n",
       "3  C:\\Users\\mahdi\\Downloads\\Telegram Desktop\\zhak...    sizpay  "
      ]
     },
     "execution_count": 46,
     "metadata": {},
     "output_type": "execute_result"
    }
   ],
   "source": [
    "df.fillna(2.33)"
   ]
  },
  {
   "cell_type": "code",
   "execution_count": 47,
   "id": "b820d6a8-a44a-4227-bcfc-ef8abdeb8704",
   "metadata": {},
   "outputs": [
    {
     "data": {
      "text/html": [
       "<div>\n",
       "<style scoped>\n",
       "    .dataframe tbody tr th:only-of-type {\n",
       "        vertical-align: middle;\n",
       "    }\n",
       "\n",
       "    .dataframe tbody tr th {\n",
       "        vertical-align: top;\n",
       "    }\n",
       "\n",
       "    .dataframe thead th {\n",
       "        text-align: right;\n",
       "    }\n",
       "</style>\n",
       "<table border=\"1\" class=\"dataframe\">\n",
       "  <thead>\n",
       "    <tr style=\"text-align: right;\">\n",
       "      <th></th>\n",
       "      <th>edit page url</th>\n",
       "      <th>version</th>\n",
       "      <th>status</th>\n",
       "      <th>file path</th>\n",
       "      <th>name</th>\n",
       "    </tr>\n",
       "  </thead>\n",
       "  <tbody>\n",
       "    <tr>\n",
       "      <th>1</th>\n",
       "      <td>https://www.zhaket.com/dashboard/products/edit...</td>\n",
       "      <td>2.35.6</td>\n",
       "      <td>1</td>\n",
       "      <td>C:\\Users\\mahdi\\Downloads\\Telegram Desktop\\zhak...</td>\n",
       "      <td>idpay</td>\n",
       "    </tr>\n",
       "    <tr>\n",
       "      <th>2</th>\n",
       "      <td>https://www.zhaket.com/dashboard/products/edit...</td>\n",
       "      <td>2.35.6</td>\n",
       "      <td>0</td>\n",
       "      <td>C:\\Users\\mahdi\\Downloads\\Telegram Desktop\\zhak...</td>\n",
       "      <td>meli</td>\n",
       "    </tr>\n",
       "    <tr>\n",
       "      <th>3</th>\n",
       "      <td>https://www.zhaket.com/dashboard/products/edit...</td>\n",
       "      <td>2.35.6</td>\n",
       "      <td>1</td>\n",
       "      <td>C:\\Users\\mahdi\\Downloads\\Telegram Desktop\\zhak...</td>\n",
       "      <td>sizpay</td>\n",
       "    </tr>\n",
       "  </tbody>\n",
       "</table>\n",
       "</div>"
      ],
      "text/plain": [
       "                                       edit page url version  status  \\\n",
       "1  https://www.zhaket.com/dashboard/products/edit...  2.35.6       1   \n",
       "2  https://www.zhaket.com/dashboard/products/edit...  2.35.6       0   \n",
       "3  https://www.zhaket.com/dashboard/products/edit...  2.35.6       1   \n",
       "\n",
       "                                           file path    name  \n",
       "1  C:\\Users\\mahdi\\Downloads\\Telegram Desktop\\zhak...   idpay  \n",
       "2  C:\\Users\\mahdi\\Downloads\\Telegram Desktop\\zhak...    meli  \n",
       "3  C:\\Users\\mahdi\\Downloads\\Telegram Desktop\\zhak...  sizpay  "
      ]
     },
     "execution_count": 47,
     "metadata": {},
     "output_type": "execute_result"
    }
   ],
   "source": [
    "df.dropna()"
   ]
  },
  {
   "cell_type": "code",
   "execution_count": 114,
   "id": "ee2da16b-bb8f-4884-bdc7-0ac51c626b99",
   "metadata": {},
   "outputs": [
    {
     "data": {
      "text/html": [
       "<div>\n",
       "<style scoped>\n",
       "    .dataframe tbody tr th:only-of-type {\n",
       "        vertical-align: middle;\n",
       "    }\n",
       "\n",
       "    .dataframe tbody tr th {\n",
       "        vertical-align: top;\n",
       "    }\n",
       "\n",
       "    .dataframe thead th {\n",
       "        text-align: right;\n",
       "    }\n",
       "</style>\n",
       "<table border=\"1\" class=\"dataframe\">\n",
       "  <thead>\n",
       "    <tr style=\"text-align: right;\">\n",
       "      <th></th>\n",
       "      <th>edit page url</th>\n",
       "      <th>version</th>\n",
       "      <th>status</th>\n",
       "      <th>file path</th>\n",
       "      <th>name</th>\n",
       "      <th>count_of_cars</th>\n",
       "      <th>sibling</th>\n",
       "    </tr>\n",
       "  </thead>\n",
       "  <tbody>\n",
       "    <tr>\n",
       "      <th>0</th>\n",
       "      <td>https://www.zhaket.com/dashboard/products/edit...</td>\n",
       "      <td>1.0</td>\n",
       "      <td>12</td>\n",
       "      <td>C:\\Users\\mahdi\\Downloads\\Telegram Desktop\\zhak...</td>\n",
       "      <td>sister</td>\n",
       "      <td>3</td>\n",
       "      <td>sister</td>\n",
       "    </tr>\n",
       "    <tr>\n",
       "      <th>2</th>\n",
       "      <td>https://www.zhaket.com/dashboard/products/edit...</td>\n",
       "      <td>2.35.6</td>\n",
       "      <td>12</td>\n",
       "      <td>C:\\Users\\mahdi\\Downloads\\Telegram Desktop\\zhak...</td>\n",
       "      <td>my future gf</td>\n",
       "      <td>3</td>\n",
       "      <td>my future gf</td>\n",
       "    </tr>\n",
       "    <tr>\n",
       "      <th>3</th>\n",
       "      <td>https://www.zhaket.com/dashboard/products/edit...</td>\n",
       "      <td>2.35.6</td>\n",
       "      <td>12</td>\n",
       "      <td>C:\\Users\\mahdi\\Downloads\\Telegram Desktop\\zhak...</td>\n",
       "      <td>sister</td>\n",
       "      <td>4</td>\n",
       "      <td>sister</td>\n",
       "    </tr>\n",
       "  </tbody>\n",
       "</table>\n",
       "</div>"
      ],
      "text/plain": [
       "                                       edit page url version  status  \\\n",
       "0  https://www.zhaket.com/dashboard/products/edit...     1.0      12   \n",
       "2  https://www.zhaket.com/dashboard/products/edit...  2.35.6      12   \n",
       "3  https://www.zhaket.com/dashboard/products/edit...  2.35.6      12   \n",
       "\n",
       "                                           file path          name  \\\n",
       "0  C:\\Users\\mahdi\\Downloads\\Telegram Desktop\\zhak...        sister   \n",
       "2  C:\\Users\\mahdi\\Downloads\\Telegram Desktop\\zhak...  my future gf   \n",
       "3  C:\\Users\\mahdi\\Downloads\\Telegram Desktop\\zhak...        sister   \n",
       "\n",
       "   count_of_cars       sibling  \n",
       "0              3        sister  \n",
       "2              3  my future gf  \n",
       "3              4        sister  "
      ]
     },
     "execution_count": 114,
     "metadata": {},
     "output_type": "execute_result"
    }
   ],
   "source": [
    "df.drop(1, axis=0)"
   ]
  },
  {
   "cell_type": "code",
   "execution_count": 86,
   "id": "43ceb146-0996-44bc-99c5-340cb67702af",
   "metadata": {},
   "outputs": [
    {
     "data": {
      "text/html": [
       "<div>\n",
       "<style scoped>\n",
       "    .dataframe tbody tr th:only-of-type {\n",
       "        vertical-align: middle;\n",
       "    }\n",
       "\n",
       "    .dataframe tbody tr th {\n",
       "        vertical-align: top;\n",
       "    }\n",
       "\n",
       "    .dataframe thead th {\n",
       "        text-align: right;\n",
       "    }\n",
       "</style>\n",
       "<table border=\"1\" class=\"dataframe\">\n",
       "  <thead>\n",
       "    <tr style=\"text-align: right;\">\n",
       "      <th></th>\n",
       "      <th>edit page url</th>\n",
       "      <th>version</th>\n",
       "      <th>status</th>\n",
       "      <th>file path</th>\n",
       "      <th>name</th>\n",
       "    </tr>\n",
       "  </thead>\n",
       "  <tbody>\n",
       "    <tr>\n",
       "      <th>0</th>\n",
       "      <td>https://www.zhaket.com/dashboard/products/edit...</td>\n",
       "      <td>1.0</td>\n",
       "      <td>0</td>\n",
       "      <td>C:\\Users\\mahdi\\Downloads\\Telegram Desktop\\zhak...</td>\n",
       "      <td>zarinpal</td>\n",
       "    </tr>\n",
       "    <tr>\n",
       "      <th>1</th>\n",
       "      <td>https://www.zhaket.com/dashboard/products/edit...</td>\n",
       "      <td>2.35.6</td>\n",
       "      <td>1</td>\n",
       "      <td>C:\\Users\\mahdi\\Downloads\\Telegram Desktop\\zhak...</td>\n",
       "      <td>idpay</td>\n",
       "    </tr>\n",
       "    <tr>\n",
       "      <th>2</th>\n",
       "      <td>https://www.zhaket.com/dashboard/products/edit...</td>\n",
       "      <td>2.35.6</td>\n",
       "      <td>0</td>\n",
       "      <td>C:\\Users\\mahdi\\Downloads\\Telegram Desktop\\zhak...</td>\n",
       "      <td>meli</td>\n",
       "    </tr>\n",
       "    <tr>\n",
       "      <th>3</th>\n",
       "      <td>https://www.zhaket.com/dashboard/products/edit...</td>\n",
       "      <td>2.35.6</td>\n",
       "      <td>1</td>\n",
       "      <td>C:\\Users\\mahdi\\Downloads\\Telegram Desktop\\zhak...</td>\n",
       "      <td>sizpay</td>\n",
       "    </tr>\n",
       "  </tbody>\n",
       "</table>\n",
       "</div>"
      ],
      "text/plain": [
       "                                       edit page url version  status  \\\n",
       "0  https://www.zhaket.com/dashboard/products/edit...     1.0       0   \n",
       "1  https://www.zhaket.com/dashboard/products/edit...  2.35.6       1   \n",
       "2  https://www.zhaket.com/dashboard/products/edit...  2.35.6       0   \n",
       "3  https://www.zhaket.com/dashboard/products/edit...  2.35.6       1   \n",
       "\n",
       "                                           file path      name  \n",
       "0  C:\\Users\\mahdi\\Downloads\\Telegram Desktop\\zhak...  zarinpal  \n",
       "1  C:\\Users\\mahdi\\Downloads\\Telegram Desktop\\zhak...     idpay  \n",
       "2  C:\\Users\\mahdi\\Downloads\\Telegram Desktop\\zhak...      meli  \n",
       "3  C:\\Users\\mahdi\\Downloads\\Telegram Desktop\\zhak...    sizpay  "
      ]
     },
     "execution_count": 86,
     "metadata": {},
     "output_type": "execute_result"
    }
   ],
   "source": [
    "# df.fillna(df['status'].mean())\n",
    "df=df.fillna(df[df['status']==1]['status'].mean()) "
   ]
  },
  {
   "cell_type": "code",
   "execution_count": 90,
   "id": "c3995096-3754-42a6-9324-68b4171e28f5",
   "metadata": {},
   "outputs": [
    {
     "data": {
      "text/html": [
       "<div>\n",
       "<style scoped>\n",
       "    .dataframe tbody tr th:only-of-type {\n",
       "        vertical-align: middle;\n",
       "    }\n",
       "\n",
       "    .dataframe tbody tr th {\n",
       "        vertical-align: top;\n",
       "    }\n",
       "\n",
       "    .dataframe thead th {\n",
       "        text-align: right;\n",
       "    }\n",
       "</style>\n",
       "<table border=\"1\" class=\"dataframe\">\n",
       "  <thead>\n",
       "    <tr style=\"text-align: right;\">\n",
       "      <th></th>\n",
       "      <th>edit page url</th>\n",
       "      <th>version</th>\n",
       "      <th>status</th>\n",
       "      <th>file path</th>\n",
       "      <th>name</th>\n",
       "    </tr>\n",
       "  </thead>\n",
       "  <tbody>\n",
       "    <tr>\n",
       "      <th>0</th>\n",
       "      <td>https://www.zhaket.com/dashboard/products/edit...</td>\n",
       "      <td>1.0</td>\n",
       "      <td>kir</td>\n",
       "      <td>C:\\Users\\mahdi\\Downloads\\Telegram Desktop\\zhak...</td>\n",
       "      <td>zarinpal</td>\n",
       "    </tr>\n",
       "    <tr>\n",
       "      <th>1</th>\n",
       "      <td>https://www.zhaket.com/dashboard/products/edit...</td>\n",
       "      <td>2.35.6</td>\n",
       "      <td>kos</td>\n",
       "      <td>C:\\Users\\mahdi\\Downloads\\Telegram Desktop\\zhak...</td>\n",
       "      <td>idpay</td>\n",
       "    </tr>\n",
       "    <tr>\n",
       "      <th>2</th>\n",
       "      <td>https://www.zhaket.com/dashboard/products/edit...</td>\n",
       "      <td>2.35.6</td>\n",
       "      <td>kir</td>\n",
       "      <td>C:\\Users\\mahdi\\Downloads\\Telegram Desktop\\zhak...</td>\n",
       "      <td>meli</td>\n",
       "    </tr>\n",
       "    <tr>\n",
       "      <th>3</th>\n",
       "      <td>https://www.zhaket.com/dashboard/products/edit...</td>\n",
       "      <td>2.35.6</td>\n",
       "      <td>kos</td>\n",
       "      <td>C:\\Users\\mahdi\\Downloads\\Telegram Desktop\\zhak...</td>\n",
       "      <td>sizpay</td>\n",
       "    </tr>\n",
       "  </tbody>\n",
       "</table>\n",
       "</div>"
      ],
      "text/plain": [
       "                                       edit page url version status  \\\n",
       "0  https://www.zhaket.com/dashboard/products/edit...     1.0    kir   \n",
       "1  https://www.zhaket.com/dashboard/products/edit...  2.35.6    kos   \n",
       "2  https://www.zhaket.com/dashboard/products/edit...  2.35.6    kir   \n",
       "3  https://www.zhaket.com/dashboard/products/edit...  2.35.6    kos   \n",
       "\n",
       "                                           file path      name  \n",
       "0  C:\\Users\\mahdi\\Downloads\\Telegram Desktop\\zhak...  zarinpal  \n",
       "1  C:\\Users\\mahdi\\Downloads\\Telegram Desktop\\zhak...     idpay  \n",
       "2  C:\\Users\\mahdi\\Downloads\\Telegram Desktop\\zhak...      meli  \n",
       "3  C:\\Users\\mahdi\\Downloads\\Telegram Desktop\\zhak...    sizpay  "
      ]
     },
     "execution_count": 90,
     "metadata": {},
     "output_type": "execute_result"
    }
   ],
   "source": [
    "df.replace({'status':{1:'kos', 0:'kir'}})"
   ]
  },
  {
   "cell_type": "code",
   "execution_count": 91,
   "id": "b915d75b-b415-4801-af78-dde2482f938d",
   "metadata": {},
   "outputs": [
    {
     "data": {
      "text/html": [
       "<div>\n",
       "<style scoped>\n",
       "    .dataframe tbody tr th:only-of-type {\n",
       "        vertical-align: middle;\n",
       "    }\n",
       "\n",
       "    .dataframe tbody tr th {\n",
       "        vertical-align: top;\n",
       "    }\n",
       "\n",
       "    .dataframe thead th {\n",
       "        text-align: right;\n",
       "    }\n",
       "</style>\n",
       "<table border=\"1\" class=\"dataframe\">\n",
       "  <thead>\n",
       "    <tr style=\"text-align: right;\">\n",
       "      <th></th>\n",
       "      <th>edit page url</th>\n",
       "      <th>version</th>\n",
       "      <th>status</th>\n",
       "      <th>file path</th>\n",
       "      <th>name</th>\n",
       "    </tr>\n",
       "  </thead>\n",
       "  <tbody>\n",
       "    <tr>\n",
       "      <th>0</th>\n",
       "      <td>https://www.zhaket.com/dashboard/products/edit...</td>\n",
       "      <td>1.0</td>\n",
       "      <td>0</td>\n",
       "      <td>C:\\Users\\mahdi\\Downloads\\Telegram Desktop\\zhak...</td>\n",
       "      <td>zarinpal</td>\n",
       "    </tr>\n",
       "    <tr>\n",
       "      <th>1</th>\n",
       "      <td>https://www.zhaket.com/dashboard/products/edit...</td>\n",
       "      <td>2.35.6</td>\n",
       "      <td>1</td>\n",
       "      <td>C:\\Users\\mahdi\\Downloads\\Telegram Desktop\\zhak...</td>\n",
       "      <td>idpay</td>\n",
       "    </tr>\n",
       "    <tr>\n",
       "      <th>2</th>\n",
       "      <td>https://www.zhaket.com/dashboard/products/edit...</td>\n",
       "      <td>2.35.6</td>\n",
       "      <td>0</td>\n",
       "      <td>C:\\Users\\mahdi\\Downloads\\Telegram Desktop\\zhak...</td>\n",
       "      <td>kos</td>\n",
       "    </tr>\n",
       "    <tr>\n",
       "      <th>3</th>\n",
       "      <td>https://www.zhaket.com/dashboard/products/edit...</td>\n",
       "      <td>2.35.6</td>\n",
       "      <td>1</td>\n",
       "      <td>C:\\Users\\mahdi\\Downloads\\Telegram Desktop\\zhak...</td>\n",
       "      <td>sizpay</td>\n",
       "    </tr>\n",
       "  </tbody>\n",
       "</table>\n",
       "</div>"
      ],
      "text/plain": [
       "                                       edit page url version  status  \\\n",
       "0  https://www.zhaket.com/dashboard/products/edit...     1.0       0   \n",
       "1  https://www.zhaket.com/dashboard/products/edit...  2.35.6       1   \n",
       "2  https://www.zhaket.com/dashboard/products/edit...  2.35.6       0   \n",
       "3  https://www.zhaket.com/dashboard/products/edit...  2.35.6       1   \n",
       "\n",
       "                                           file path      name  \n",
       "0  C:\\Users\\mahdi\\Downloads\\Telegram Desktop\\zhak...  zarinpal  \n",
       "1  C:\\Users\\mahdi\\Downloads\\Telegram Desktop\\zhak...     idpay  \n",
       "2  C:\\Users\\mahdi\\Downloads\\Telegram Desktop\\zhak...       kos  \n",
       "3  C:\\Users\\mahdi\\Downloads\\Telegram Desktop\\zhak...    sizpay  "
      ]
     },
     "execution_count": 91,
     "metadata": {},
     "output_type": "execute_result"
    }
   ],
   "source": [
    "df.replace({'name':{'meli':'kos'}})"
   ]
  },
  {
   "cell_type": "code",
   "execution_count": 93,
   "id": "6a9ebfef-66ea-4ef4-b60e-52aea944cd82",
   "metadata": {},
   "outputs": [
    {
     "data": {
      "text/plain": [
       "np.float64(0.5)"
      ]
     },
     "execution_count": 93,
     "metadata": {},
     "output_type": "execute_result"
    }
   ],
   "source": [
    "df['status'].mean()"
   ]
  },
  {
   "cell_type": "code",
   "execution_count": 102,
   "id": "42934760-b0eb-408a-b7e2-20b868a499b1",
   "metadata": {},
   "outputs": [
    {
     "data": {
      "text/html": [
       "<div>\n",
       "<style scoped>\n",
       "    .dataframe tbody tr th:only-of-type {\n",
       "        vertical-align: middle;\n",
       "    }\n",
       "\n",
       "    .dataframe tbody tr th {\n",
       "        vertical-align: top;\n",
       "    }\n",
       "\n",
       "    .dataframe thead th {\n",
       "        text-align: right;\n",
       "    }\n",
       "</style>\n",
       "<table border=\"1\" class=\"dataframe\">\n",
       "  <thead>\n",
       "    <tr style=\"text-align: right;\">\n",
       "      <th></th>\n",
       "      <th>edit page url</th>\n",
       "      <th>version</th>\n",
       "      <th>status</th>\n",
       "      <th>file path</th>\n",
       "      <th>name</th>\n",
       "      <th>count_of_cars</th>\n",
       "    </tr>\n",
       "  </thead>\n",
       "  <tbody>\n",
       "    <tr>\n",
       "      <th>0</th>\n",
       "      <td>https://www.zhaket.com/dashboard/products/edit...</td>\n",
       "      <td>1.0</td>\n",
       "      <td>0</td>\n",
       "      <td>C:\\Users\\mahdi\\Downloads\\Telegram Desktop\\zhak...</td>\n",
       "      <td>zarinpal</td>\n",
       "      <td>3</td>\n",
       "    </tr>\n",
       "    <tr>\n",
       "      <th>1</th>\n",
       "      <td>https://www.zhaket.com/dashboard/products/edit...</td>\n",
       "      <td>2.35.6</td>\n",
       "      <td>1</td>\n",
       "      <td>C:\\Users\\mahdi\\Downloads\\Telegram Desktop\\zhak...</td>\n",
       "      <td>idpay</td>\n",
       "      <td>4</td>\n",
       "    </tr>\n",
       "    <tr>\n",
       "      <th>2</th>\n",
       "      <td>https://www.zhaket.com/dashboard/products/edit...</td>\n",
       "      <td>2.35.6</td>\n",
       "      <td>0</td>\n",
       "      <td>C:\\Users\\mahdi\\Downloads\\Telegram Desktop\\zhak...</td>\n",
       "      <td>meli</td>\n",
       "      <td>3</td>\n",
       "    </tr>\n",
       "    <tr>\n",
       "      <th>3</th>\n",
       "      <td>https://www.zhaket.com/dashboard/products/edit...</td>\n",
       "      <td>2.35.6</td>\n",
       "      <td>1</td>\n",
       "      <td>C:\\Users\\mahdi\\Downloads\\Telegram Desktop\\zhak...</td>\n",
       "      <td>sizpay</td>\n",
       "      <td>4</td>\n",
       "    </tr>\n",
       "  </tbody>\n",
       "</table>\n",
       "</div>"
      ],
      "text/plain": [
       "                                       edit page url version  status  \\\n",
       "0  https://www.zhaket.com/dashboard/products/edit...     1.0       0   \n",
       "1  https://www.zhaket.com/dashboard/products/edit...  2.35.6       1   \n",
       "2  https://www.zhaket.com/dashboard/products/edit...  2.35.6       0   \n",
       "3  https://www.zhaket.com/dashboard/products/edit...  2.35.6       1   \n",
       "\n",
       "                                           file path      name  count_of_cars  \n",
       "0  C:\\Users\\mahdi\\Downloads\\Telegram Desktop\\zhak...  zarinpal              3  \n",
       "1  C:\\Users\\mahdi\\Downloads\\Telegram Desktop\\zhak...     idpay              4  \n",
       "2  C:\\Users\\mahdi\\Downloads\\Telegram Desktop\\zhak...      meli              3  \n",
       "3  C:\\Users\\mahdi\\Downloads\\Telegram Desktop\\zhak...    sizpay              4  "
      ]
     },
     "execution_count": 102,
     "metadata": {},
     "output_type": "execute_result"
    }
   ],
   "source": [
    "df['count_of_cars']= df['status'] +3\n",
    "df"
   ]
  },
  {
   "cell_type": "code",
   "execution_count": 105,
   "id": "52eb1ebc-5446-45ab-b1ab-e1c283b709d8",
   "metadata": {},
   "outputs": [
    {
     "data": {
      "text/plain": [
       "0    12\n",
       "1    12\n",
       "2    12\n",
       "3    12\n",
       "Name: status, dtype: int64"
      ]
     },
     "execution_count": 105,
     "metadata": {},
     "output_type": "execute_result"
    }
   ],
   "source": [
    "df['status']= 2*6\n",
    "df['status']"
   ]
  },
  {
   "cell_type": "code",
   "execution_count": 108,
   "id": "f41f6193-8e54-4949-a260-7b2cd4eae969",
   "metadata": {},
   "outputs": [
    {
     "data": {
      "text/html": [
       "<div>\n",
       "<style scoped>\n",
       "    .dataframe tbody tr th:only-of-type {\n",
       "        vertical-align: middle;\n",
       "    }\n",
       "\n",
       "    .dataframe tbody tr th {\n",
       "        vertical-align: top;\n",
       "    }\n",
       "\n",
       "    .dataframe thead th {\n",
       "        text-align: right;\n",
       "    }\n",
       "</style>\n",
       "<table border=\"1\" class=\"dataframe\">\n",
       "  <thead>\n",
       "    <tr style=\"text-align: right;\">\n",
       "      <th></th>\n",
       "      <th>edit page url</th>\n",
       "      <th>version</th>\n",
       "      <th>status</th>\n",
       "      <th>file path</th>\n",
       "      <th>name</th>\n",
       "      <th>count_of_cars</th>\n",
       "      <th>sibling</th>\n",
       "    </tr>\n",
       "  </thead>\n",
       "  <tbody>\n",
       "    <tr>\n",
       "      <th>0</th>\n",
       "      <td>https://www.zhaket.com/dashboard/products/edit...</td>\n",
       "      <td>1.0</td>\n",
       "      <td>12</td>\n",
       "      <td>C:\\Users\\mahdi\\Downloads\\Telegram Desktop\\zhak...</td>\n",
       "      <td>sister</td>\n",
       "      <td>3</td>\n",
       "      <td>sister</td>\n",
       "    </tr>\n",
       "    <tr>\n",
       "      <th>1</th>\n",
       "      <td>https://www.zhaket.com/dashboard/products/edit...</td>\n",
       "      <td>2.35.6</td>\n",
       "      <td>12</td>\n",
       "      <td>C:\\Users\\mahdi\\Downloads\\Telegram Desktop\\zhak...</td>\n",
       "      <td>brother</td>\n",
       "      <td>4</td>\n",
       "      <td>brother</td>\n",
       "    </tr>\n",
       "    <tr>\n",
       "      <th>2</th>\n",
       "      <td>https://www.zhaket.com/dashboard/products/edit...</td>\n",
       "      <td>2.35.6</td>\n",
       "      <td>12</td>\n",
       "      <td>C:\\Users\\mahdi\\Downloads\\Telegram Desktop\\zhak...</td>\n",
       "      <td>my future gf</td>\n",
       "      <td>3</td>\n",
       "      <td>my future gf</td>\n",
       "    </tr>\n",
       "    <tr>\n",
       "      <th>3</th>\n",
       "      <td>https://www.zhaket.com/dashboard/products/edit...</td>\n",
       "      <td>2.35.6</td>\n",
       "      <td>12</td>\n",
       "      <td>C:\\Users\\mahdi\\Downloads\\Telegram Desktop\\zhak...</td>\n",
       "      <td>sister</td>\n",
       "      <td>4</td>\n",
       "      <td>sister</td>\n",
       "    </tr>\n",
       "  </tbody>\n",
       "</table>\n",
       "</div>"
      ],
      "text/plain": [
       "                                       edit page url version  status  \\\n",
       "0  https://www.zhaket.com/dashboard/products/edit...     1.0      12   \n",
       "1  https://www.zhaket.com/dashboard/products/edit...  2.35.6      12   \n",
       "2  https://www.zhaket.com/dashboard/products/edit...  2.35.6      12   \n",
       "3  https://www.zhaket.com/dashboard/products/edit...  2.35.6      12   \n",
       "\n",
       "                                           file path          name  \\\n",
       "0  C:\\Users\\mahdi\\Downloads\\Telegram Desktop\\zhak...        sister   \n",
       "1  C:\\Users\\mahdi\\Downloads\\Telegram Desktop\\zhak...       brother   \n",
       "2  C:\\Users\\mahdi\\Downloads\\Telegram Desktop\\zhak...  my future gf   \n",
       "3  C:\\Users\\mahdi\\Downloads\\Telegram Desktop\\zhak...        sister   \n",
       "\n",
       "   count_of_cars       sibling  \n",
       "0              3        sister  \n",
       "1              4       brother  \n",
       "2              3  my future gf  \n",
       "3              4        sister  "
      ]
     },
     "execution_count": 108,
     "metadata": {},
     "output_type": "execute_result"
    }
   ],
   "source": [
    "def categorizer(x):\n",
    "    if x == 'meli':\n",
    "        return 'my future gf'\n",
    "    elif x == 'idpay':\n",
    "        return 'brother'\n",
    "    else:\n",
    "        return 'sister'\n",
    "\n",
    "df['name']=df['name'].apply(categorizer)\n",
    "df"
   ]
  },
  {
   "cell_type": "code",
   "execution_count": 113,
   "id": "697ce875-e837-4469-b1f3-7543d7dc563d",
   "metadata": {},
   "outputs": [
    {
     "data": {
      "text/html": [
       "<div>\n",
       "<style scoped>\n",
       "    .dataframe tbody tr th:only-of-type {\n",
       "        vertical-align: middle;\n",
       "    }\n",
       "\n",
       "    .dataframe tbody tr th {\n",
       "        vertical-align: top;\n",
       "    }\n",
       "\n",
       "    .dataframe thead th {\n",
       "        text-align: right;\n",
       "    }\n",
       "</style>\n",
       "<table border=\"1\" class=\"dataframe\">\n",
       "  <thead>\n",
       "    <tr style=\"text-align: right;\">\n",
       "      <th></th>\n",
       "      <th>edit page url</th>\n",
       "      <th>version</th>\n",
       "      <th>status</th>\n",
       "      <th>file path</th>\n",
       "      <th>name</th>\n",
       "      <th>count_of_cars</th>\n",
       "      <th>sibling</th>\n",
       "    </tr>\n",
       "  </thead>\n",
       "  <tbody>\n",
       "    <tr>\n",
       "      <th>1</th>\n",
       "      <td>https://www.zhaket.com/dashboard/products/edit...</td>\n",
       "      <td>2.35.6</td>\n",
       "      <td>12</td>\n",
       "      <td>C:\\Users\\mahdi\\Downloads\\Telegram Desktop\\zhak...</td>\n",
       "      <td>brother</td>\n",
       "      <td>4</td>\n",
       "      <td>brother</td>\n",
       "    </tr>\n",
       "    <tr>\n",
       "      <th>3</th>\n",
       "      <td>https://www.zhaket.com/dashboard/products/edit...</td>\n",
       "      <td>2.35.6</td>\n",
       "      <td>12</td>\n",
       "      <td>C:\\Users\\mahdi\\Downloads\\Telegram Desktop\\zhak...</td>\n",
       "      <td>sister</td>\n",
       "      <td>4</td>\n",
       "      <td>sister</td>\n",
       "    </tr>\n",
       "    <tr>\n",
       "      <th>2</th>\n",
       "      <td>https://www.zhaket.com/dashboard/products/edit...</td>\n",
       "      <td>2.35.6</td>\n",
       "      <td>12</td>\n",
       "      <td>C:\\Users\\mahdi\\Downloads\\Telegram Desktop\\zhak...</td>\n",
       "      <td>my future gf</td>\n",
       "      <td>3</td>\n",
       "      <td>my future gf</td>\n",
       "    </tr>\n",
       "    <tr>\n",
       "      <th>0</th>\n",
       "      <td>https://www.zhaket.com/dashboard/products/edit...</td>\n",
       "      <td>1.0</td>\n",
       "      <td>12</td>\n",
       "      <td>C:\\Users\\mahdi\\Downloads\\Telegram Desktop\\zhak...</td>\n",
       "      <td>sister</td>\n",
       "      <td>3</td>\n",
       "      <td>sister</td>\n",
       "    </tr>\n",
       "  </tbody>\n",
       "</table>\n",
       "</div>"
      ],
      "text/plain": [
       "                                       edit page url version  status  \\\n",
       "1  https://www.zhaket.com/dashboard/products/edit...  2.35.6      12   \n",
       "3  https://www.zhaket.com/dashboard/products/edit...  2.35.6      12   \n",
       "2  https://www.zhaket.com/dashboard/products/edit...  2.35.6      12   \n",
       "0  https://www.zhaket.com/dashboard/products/edit...     1.0      12   \n",
       "\n",
       "                                           file path          name  \\\n",
       "1  C:\\Users\\mahdi\\Downloads\\Telegram Desktop\\zhak...       brother   \n",
       "3  C:\\Users\\mahdi\\Downloads\\Telegram Desktop\\zhak...        sister   \n",
       "2  C:\\Users\\mahdi\\Downloads\\Telegram Desktop\\zhak...  my future gf   \n",
       "0  C:\\Users\\mahdi\\Downloads\\Telegram Desktop\\zhak...        sister   \n",
       "\n",
       "   count_of_cars       sibling  \n",
       "1              4       brother  \n",
       "3              4        sister  \n",
       "2              3  my future gf  \n",
       "0              3        sister  "
      ]
     },
     "execution_count": 113,
     "metadata": {},
     "output_type": "execute_result"
    }
   ],
   "source": [
    "df.sort_values(by=['count_of_cars', 'version'], ascending=False)"
   ]
  }
 ],
 "metadata": {
  "kernelspec": {
   "display_name": "Python 3 (ipykernel)",
   "language": "python",
   "name": "python3"
  },
  "language_info": {
   "codemirror_mode": {
    "name": "ipython",
    "version": 3
   },
   "file_extension": ".py",
   "mimetype": "text/x-python",
   "name": "python",
   "nbconvert_exporter": "python",
   "pygments_lexer": "ipython3",
   "version": "3.11.5"
  }
 },
 "nbformat": 4,
 "nbformat_minor": 5
}
