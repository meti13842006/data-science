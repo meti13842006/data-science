{
 "cells": [
  {
   "cell_type": "code",
   "execution_count": 2,
   "id": "4ac0263c-1316-4106-aee5-6abb6c4ac2ec",
   "metadata": {},
   "outputs": [],
   "source": [
    "import pandas as pd\n",
    "import numpy as np\n",
    "import tensorflow as tf"
   ]
  },
  {
   "cell_type": "code",
   "execution_count": 4,
   "id": "2720bb15-ecfb-42a3-bac5-cd49e5cf3939",
   "metadata": {},
   "outputs": [
    {
     "data": {
      "text/html": [
       "<div>\n",
       "<style scoped>\n",
       "    .dataframe tbody tr th:only-of-type {\n",
       "        vertical-align: middle;\n",
       "    }\n",
       "\n",
       "    .dataframe tbody tr th {\n",
       "        vertical-align: top;\n",
       "    }\n",
       "\n",
       "    .dataframe thead th {\n",
       "        text-align: right;\n",
       "    }\n",
       "</style>\n",
       "<table border=\"1\" class=\"dataframe\">\n",
       "  <thead>\n",
       "    <tr style=\"text-align: right;\">\n",
       "      <th></th>\n",
       "      <th>id</th>\n",
       "      <th>age</th>\n",
       "      <th>gender</th>\n",
       "      <th>height</th>\n",
       "      <th>weight</th>\n",
       "      <th>ap_hi</th>\n",
       "      <th>ap_lo</th>\n",
       "      <th>cholesterol</th>\n",
       "      <th>gluc</th>\n",
       "      <th>smoke</th>\n",
       "      <th>alco</th>\n",
       "      <th>active</th>\n",
       "      <th>cardio</th>\n",
       "    </tr>\n",
       "  </thead>\n",
       "  <tbody>\n",
       "    <tr>\n",
       "      <th>0</th>\n",
       "      <td>0</td>\n",
       "      <td>18393</td>\n",
       "      <td>2</td>\n",
       "      <td>168</td>\n",
       "      <td>62.0</td>\n",
       "      <td>110</td>\n",
       "      <td>80</td>\n",
       "      <td>1</td>\n",
       "      <td>1</td>\n",
       "      <td>0</td>\n",
       "      <td>0</td>\n",
       "      <td>1</td>\n",
       "      <td>0</td>\n",
       "    </tr>\n",
       "    <tr>\n",
       "      <th>1</th>\n",
       "      <td>1</td>\n",
       "      <td>20228</td>\n",
       "      <td>1</td>\n",
       "      <td>156</td>\n",
       "      <td>85.0</td>\n",
       "      <td>140</td>\n",
       "      <td>90</td>\n",
       "      <td>3</td>\n",
       "      <td>1</td>\n",
       "      <td>0</td>\n",
       "      <td>0</td>\n",
       "      <td>1</td>\n",
       "      <td>1</td>\n",
       "    </tr>\n",
       "    <tr>\n",
       "      <th>2</th>\n",
       "      <td>2</td>\n",
       "      <td>18857</td>\n",
       "      <td>1</td>\n",
       "      <td>165</td>\n",
       "      <td>64.0</td>\n",
       "      <td>130</td>\n",
       "      <td>70</td>\n",
       "      <td>3</td>\n",
       "      <td>1</td>\n",
       "      <td>0</td>\n",
       "      <td>0</td>\n",
       "      <td>0</td>\n",
       "      <td>1</td>\n",
       "    </tr>\n",
       "    <tr>\n",
       "      <th>3</th>\n",
       "      <td>3</td>\n",
       "      <td>17623</td>\n",
       "      <td>2</td>\n",
       "      <td>169</td>\n",
       "      <td>82.0</td>\n",
       "      <td>150</td>\n",
       "      <td>100</td>\n",
       "      <td>1</td>\n",
       "      <td>1</td>\n",
       "      <td>0</td>\n",
       "      <td>0</td>\n",
       "      <td>1</td>\n",
       "      <td>1</td>\n",
       "    </tr>\n",
       "    <tr>\n",
       "      <th>4</th>\n",
       "      <td>4</td>\n",
       "      <td>17474</td>\n",
       "      <td>1</td>\n",
       "      <td>156</td>\n",
       "      <td>56.0</td>\n",
       "      <td>100</td>\n",
       "      <td>60</td>\n",
       "      <td>1</td>\n",
       "      <td>1</td>\n",
       "      <td>0</td>\n",
       "      <td>0</td>\n",
       "      <td>0</td>\n",
       "      <td>0</td>\n",
       "    </tr>\n",
       "  </tbody>\n",
       "</table>\n",
       "</div>"
      ],
      "text/plain": [
       "   id    age  gender  height  weight  ap_hi  ap_lo  cholesterol  gluc  smoke  \\\n",
       "0   0  18393       2     168    62.0    110     80            1     1      0   \n",
       "1   1  20228       1     156    85.0    140     90            3     1      0   \n",
       "2   2  18857       1     165    64.0    130     70            3     1      0   \n",
       "3   3  17623       2     169    82.0    150    100            1     1      0   \n",
       "4   4  17474       1     156    56.0    100     60            1     1      0   \n",
       "\n",
       "   alco  active  cardio  \n",
       "0     0       1       0  \n",
       "1     0       1       1  \n",
       "2     0       0       1  \n",
       "3     0       1       1  \n",
       "4     0       0       0  "
      ]
     },
     "execution_count": 4,
     "metadata": {},
     "output_type": "execute_result"
    }
   ],
   "source": [
    "df=pd.read_csv('cardio_train1.csv')\n",
    "df.head()"
   ]
  },
  {
   "cell_type": "code",
   "execution_count": 55,
   "id": "043610c7-bd8a-411a-abec-e02af82ca0a1",
   "metadata": {},
   "outputs": [],
   "source": [
    "X=df.iloc[:, 1:-1]\n",
    "y=df.iloc[:, -1]"
   ]
  },
  {
   "cell_type": "code",
   "execution_count": 9,
   "id": "29110b15-90e6-4cec-98a1-0b80c227430f",
   "metadata": {},
   "outputs": [],
   "source": [
    "from sklearn.preprocessing import StandardScaler\n",
    "sc=StandardScaler()"
   ]
  },
  {
   "cell_type": "code",
   "execution_count": 10,
   "id": "646b0c7f-1bfd-4817-8644-aade12e8efe9",
   "metadata": {},
   "outputs": [
    {
     "data": {
      "text/plain": [
       "array([[-0.43606151,  1.36405487,  0.44345206, ..., -0.31087913,\n",
       "        -0.23838436,  0.49416711],\n",
       "       [ 0.30768633, -0.73310834, -1.01816804, ..., -0.31087913,\n",
       "        -0.23838436,  0.49416711],\n",
       "       [-0.24799666, -0.73310834,  0.07804703, ..., -0.31087913,\n",
       "        -0.23838436, -2.02360695],\n",
       "       ...,\n",
       "       [-0.16328642,  1.36405487,  2.27047718, ..., -0.31087913,\n",
       "         4.19490608, -2.02360695],\n",
       "       [ 1.20058905, -0.73310834, -0.16555632, ..., -0.31087913,\n",
       "        -0.23838436, -2.02360695],\n",
       "       [ 0.43414373, -0.73310834,  0.68705541, ..., -0.31087913,\n",
       "        -0.23838436,  0.49416711]])"
      ]
     },
     "execution_count": 10,
     "metadata": {},
     "output_type": "execute_result"
    }
   ],
   "source": [
    "X=sc.fit_transform(X)\n",
    "X"
   ]
  },
  {
   "cell_type": "code",
   "execution_count": 57,
   "id": "d5b2e869-9033-47d2-9980-0ec26f5423e4",
   "metadata": {},
   "outputs": [],
   "source": [
    "y=pd.get_dummies(y, dtype=int)"
   ]
  },
  {
   "cell_type": "code",
   "execution_count": 69,
   "id": "88ea0737-7caf-4e93-acb5-77d9387db732",
   "metadata": {},
   "outputs": [],
   "source": [
    "from sklearn.model_selection import train_test_split\n",
    "X_train, X_test, y_train, y_test = train_test_split(X, y, random_state=33123)"
   ]
  },
  {
   "cell_type": "code",
   "execution_count": 70,
   "id": "ea4d217a-c31d-45ca-ab90-125bf77a73f4",
   "metadata": {},
   "outputs": [],
   "source": [
    "model = tf.keras.models.Sequential([\n",
    "    tf.keras.layers.Dense(11, activation='relu', input_shape=(11,)),\n",
    "    tf.keras.layers.Dense(30, activation='relu'),\n",
    "    tf.keras.layers.Dense(2, activation='softmax')\n",
    "])"
   ]
  },
  {
   "cell_type": "code",
   "execution_count": 71,
   "id": "db36eb98-02b7-4b17-a366-614a382ffad2",
   "metadata": {},
   "outputs": [],
   "source": [
    "model.compile(optimizer=tf.keras.optimizers.Adam(0.001), loss=tf.keras.losses.CategoricalCrossentropy(), metrics=[tf.keras.metrics.CategoricalAccuracy()])"
   ]
  },
  {
   "cell_type": "code",
   "execution_count": 73,
   "id": "1141765b-f2c1-4df2-8f7c-72997d00fe08",
   "metadata": {},
   "outputs": [
    {
     "name": "stdout",
     "output_type": "stream",
     "text": [
      "Epoch 1/50\n",
      "525/525 [==============================] - 3s 6ms/step - loss: 3.5678 - categorical_accuracy: 0.5566 - val_loss: 9.8207 - val_categorical_accuracy: 0.5055\n",
      "Epoch 2/50\n",
      "525/525 [==============================] - 4s 7ms/step - loss: 5.9624 - categorical_accuracy: 0.5396 - val_loss: 0.9440 - val_categorical_accuracy: 0.6758\n",
      "Epoch 3/50\n",
      "525/525 [==============================] - 3s 5ms/step - loss: 3.0795 - categorical_accuracy: 0.5742 - val_loss: 3.4655 - val_categorical_accuracy: 0.5086\n",
      "Epoch 4/50\n",
      "525/525 [==============================] - 3s 5ms/step - loss: 3.0489 - categorical_accuracy: 0.5660 - val_loss: 3.4897 - val_categorical_accuracy: 0.5074\n",
      "Epoch 5/50\n",
      "525/525 [==============================] - 3s 6ms/step - loss: 3.1209 - categorical_accuracy: 0.5740 - val_loss: 0.9279 - val_categorical_accuracy: 0.6890\n",
      "Epoch 6/50\n",
      "525/525 [==============================] - 3s 6ms/step - loss: 2.3947 - categorical_accuracy: 0.5827 - val_loss: 1.6351 - val_categorical_accuracy: 0.5858\n",
      "Epoch 7/50\n",
      "525/525 [==============================] - 2s 4ms/step - loss: 3.1783 - categorical_accuracy: 0.5816 - val_loss: 9.3209 - val_categorical_accuracy: 0.5056\n",
      "Epoch 8/50\n",
      "525/525 [==============================] - 5s 10ms/step - loss: 3.6883 - categorical_accuracy: 0.5714 - val_loss: 1.7406 - val_categorical_accuracy: 0.5804\n",
      "Epoch 9/50\n",
      "525/525 [==============================] - 4s 8ms/step - loss: 2.3367 - categorical_accuracy: 0.6013 - val_loss: 0.8331 - val_categorical_accuracy: 0.7073\n",
      "Epoch 10/50\n",
      "525/525 [==============================] - 3s 5ms/step - loss: 2.5365 - categorical_accuracy: 0.5787 - val_loss: 4.1701 - val_categorical_accuracy: 0.5082\n",
      "Epoch 11/50\n",
      "525/525 [==============================] - 3s 5ms/step - loss: 2.4907 - categorical_accuracy: 0.5894 - val_loss: 2.1519 - val_categorical_accuracy: 0.5525\n",
      "Epoch 12/50\n",
      "525/525 [==============================] - 3s 5ms/step - loss: 2.9848 - categorical_accuracy: 0.5641 - val_loss: 1.9711 - val_categorical_accuracy: 0.5630\n",
      "Epoch 13/50\n",
      "525/525 [==============================] - 2s 5ms/step - loss: 2.0853 - categorical_accuracy: 0.5979 - val_loss: 1.7282 - val_categorical_accuracy: 0.5726\n",
      "Epoch 14/50\n",
      "525/525 [==============================] - 2s 5ms/step - loss: 2.8197 - categorical_accuracy: 0.5847 - val_loss: 8.7257 - val_categorical_accuracy: 0.5058\n",
      "Epoch 15/50\n",
      "525/525 [==============================] - 3s 5ms/step - loss: 2.8411 - categorical_accuracy: 0.5851 - val_loss: 4.8279 - val_categorical_accuracy: 0.5043\n",
      "Epoch 16/50\n",
      "525/525 [==============================] - 5s 10ms/step - loss: 2.3012 - categorical_accuracy: 0.5883 - val_loss: 1.2209 - val_categorical_accuracy: 0.6445\n",
      "Epoch 17/50\n",
      "525/525 [==============================] - 3s 6ms/step - loss: 2.7723 - categorical_accuracy: 0.5835 - val_loss: 0.8582 - val_categorical_accuracy: 0.7128\n",
      "Epoch 18/50\n",
      "525/525 [==============================] - 8s 15ms/step - loss: 2.2217 - categorical_accuracy: 0.5990 - val_loss: 3.0593 - val_categorical_accuracy: 0.5182\n",
      "Epoch 19/50\n",
      "525/525 [==============================] - 5s 10ms/step - loss: 2.2769 - categorical_accuracy: 0.5997 - val_loss: 8.8962 - val_categorical_accuracy: 0.5057\n",
      "Epoch 20/50\n",
      "525/525 [==============================] - 6s 11ms/step - loss: 2.5875 - categorical_accuracy: 0.5834 - val_loss: 1.7997 - val_categorical_accuracy: 0.5675\n",
      "Epoch 21/50\n",
      "525/525 [==============================] - 6s 11ms/step - loss: 1.9976 - categorical_accuracy: 0.6021 - val_loss: 1.0454 - val_categorical_accuracy: 0.6693\n",
      "Epoch 22/50\n",
      "525/525 [==============================] - 3s 6ms/step - loss: 1.9047 - categorical_accuracy: 0.6125 - val_loss: 3.7550 - val_categorical_accuracy: 0.5072\n",
      "Epoch 23/50\n",
      "525/525 [==============================] - 2s 5ms/step - loss: 2.1483 - categorical_accuracy: 0.5955 - val_loss: 1.1539 - val_categorical_accuracy: 0.6472\n",
      "Epoch 24/50\n",
      "525/525 [==============================] - 2s 5ms/step - loss: 2.6003 - categorical_accuracy: 0.6009 - val_loss: 0.8968 - val_categorical_accuracy: 0.6985\n",
      "Epoch 25/50\n",
      "525/525 [==============================] - 3s 6ms/step - loss: 3.1368 - categorical_accuracy: 0.5795 - val_loss: 3.3507 - val_categorical_accuracy: 0.5118\n",
      "Epoch 26/50\n",
      "525/525 [==============================] - 2s 4ms/step - loss: 2.0265 - categorical_accuracy: 0.5964 - val_loss: 6.1584 - val_categorical_accuracy: 0.4961\n",
      "Epoch 27/50\n",
      "525/525 [==============================] - 2s 5ms/step - loss: 1.9037 - categorical_accuracy: 0.6078 - val_loss: 0.8167 - val_categorical_accuracy: 0.7082\n",
      "Epoch 28/50\n",
      "525/525 [==============================] - 3s 7ms/step - loss: 2.2794 - categorical_accuracy: 0.5824 - val_loss: 1.3663 - val_categorical_accuracy: 0.6028\n",
      "Epoch 29/50\n",
      "525/525 [==============================] - 3s 6ms/step - loss: 1.6928 - categorical_accuracy: 0.6195 - val_loss: 0.9687 - val_categorical_accuracy: 0.6755\n",
      "Epoch 30/50\n",
      "525/525 [==============================] - 2s 5ms/step - loss: 2.0917 - categorical_accuracy: 0.6130 - val_loss: 2.3168 - val_categorical_accuracy: 0.5297\n",
      "Epoch 31/50\n",
      "525/525 [==============================] - 2s 5ms/step - loss: 2.0936 - categorical_accuracy: 0.5854 - val_loss: 1.0943 - val_categorical_accuracy: 0.6315\n",
      "Epoch 32/50\n",
      "525/525 [==============================] - 3s 5ms/step - loss: 2.0959 - categorical_accuracy: 0.6011 - val_loss: 1.1331 - val_categorical_accuracy: 0.6242\n",
      "Epoch 33/50\n",
      "525/525 [==============================] - 4s 8ms/step - loss: 1.6412 - categorical_accuracy: 0.6252 - val_loss: 0.9533 - val_categorical_accuracy: 0.6556\n",
      "Epoch 34/50\n",
      "525/525 [==============================] - 6s 12ms/step - loss: 2.1037 - categorical_accuracy: 0.5902 - val_loss: 2.1076 - val_categorical_accuracy: 0.5450\n",
      "Epoch 35/50\n",
      "525/525 [==============================] - 5s 9ms/step - loss: 2.1664 - categorical_accuracy: 0.6026 - val_loss: 0.8048 - val_categorical_accuracy: 0.6990\n",
      "Epoch 36/50\n",
      "525/525 [==============================] - 5s 10ms/step - loss: 1.6509 - categorical_accuracy: 0.6142 - val_loss: 0.7966 - val_categorical_accuracy: 0.7092\n",
      "Epoch 37/50\n",
      "525/525 [==============================] - 3s 7ms/step - loss: 2.4066 - categorical_accuracy: 0.5947 - val_loss: 1.0761 - val_categorical_accuracy: 0.6213\n",
      "Epoch 38/50\n",
      "525/525 [==============================] - 3s 6ms/step - loss: 2.0523 - categorical_accuracy: 0.5993 - val_loss: 2.0038 - val_categorical_accuracy: 0.5471\n",
      "Epoch 39/50\n",
      "525/525 [==============================] - 4s 7ms/step - loss: 1.5216 - categorical_accuracy: 0.6112 - val_loss: 0.9322 - val_categorical_accuracy: 0.6504\n",
      "Epoch 40/50\n",
      "525/525 [==============================] - 3s 6ms/step - loss: 1.5608 - categorical_accuracy: 0.6105 - val_loss: 3.2103 - val_categorical_accuracy: 0.5094\n",
      "Epoch 41/50\n",
      "525/525 [==============================] - 3s 6ms/step - loss: 1.7429 - categorical_accuracy: 0.5905 - val_loss: 2.4277 - val_categorical_accuracy: 0.5239\n",
      "Epoch 42/50\n",
      "525/525 [==============================] - 3s 6ms/step - loss: 1.7896 - categorical_accuracy: 0.6119 - val_loss: 0.7539 - val_categorical_accuracy: 0.7165\n",
      "Epoch 43/50\n",
      "525/525 [==============================] - 4s 7ms/step - loss: 1.6832 - categorical_accuracy: 0.6078 - val_loss: 0.7449 - val_categorical_accuracy: 0.7189\n",
      "Epoch 44/50\n",
      "525/525 [==============================] - 3s 6ms/step - loss: 1.5186 - categorical_accuracy: 0.6225 - val_loss: 0.9519 - val_categorical_accuracy: 0.6397\n",
      "Epoch 45/50\n",
      "525/525 [==============================] - 3s 6ms/step - loss: 1.4856 - categorical_accuracy: 0.6128 - val_loss: 2.5495 - val_categorical_accuracy: 0.5186\n",
      "Epoch 46/50\n",
      "525/525 [==============================] - 3s 5ms/step - loss: 1.7537 - categorical_accuracy: 0.6120 - val_loss: 2.1312 - val_categorical_accuracy: 0.5324\n",
      "Epoch 47/50\n",
      "525/525 [==============================] - 3s 7ms/step - loss: 1.8873 - categorical_accuracy: 0.6068 - val_loss: 1.0929 - val_categorical_accuracy: 0.6316\n",
      "Epoch 48/50\n",
      "525/525 [==============================] - 3s 6ms/step - loss: 1.4207 - categorical_accuracy: 0.6295 - val_loss: 0.8807 - val_categorical_accuracy: 0.6521\n",
      "Epoch 49/50\n",
      "525/525 [==============================] - 3s 6ms/step - loss: 1.6264 - categorical_accuracy: 0.5942 - val_loss: 0.7405 - val_categorical_accuracy: 0.7113\n",
      "Epoch 50/50\n",
      "525/525 [==============================] - 3s 6ms/step - loss: 2.1033 - categorical_accuracy: 0.6088 - val_loss: 0.7226 - val_categorical_accuracy: 0.7158\n"
     ]
    },
    {
     "data": {
      "text/plain": [
       "<keras.callbacks.History at 0x229d6f2e5d0>"
      ]
     },
     "execution_count": 73,
     "metadata": {},
     "output_type": "execute_result"
    }
   ],
   "source": [
    "model.fit(X_train, y_train, epochs=50, validation_data=(X_test, y_test), batch_size=100)"
   ]
  },
  {
   "cell_type": "code",
   "execution_count": 74,
   "id": "f535ca8d-ba11-44bf-a069-a3618fb6a8dd",
   "metadata": {},
   "outputs": [],
   "source": [
    "from sklearn.metrics import classification_report"
   ]
  },
  {
   "cell_type": "code",
   "execution_count": 80,
   "id": "d2543f44-b5b4-4494-8358-3c38f3caed1f",
   "metadata": {},
   "outputs": [
    {
     "name": "stdout",
     "output_type": "stream",
     "text": [
      "547/547 [==============================] - 1s 3ms/step\n"
     ]
    },
    {
     "data": {
      "text/plain": [
       "0"
      ]
     },
     "execution_count": 80,
     "metadata": {},
     "output_type": "execute_result"
    }
   ],
   "source": [
    "np.argmax(model.predict(X_test)[3])"
   ]
  },
  {
   "cell_type": "code",
   "execution_count": 84,
   "id": "24cec503-76b4-4a7a-aa1e-38e8c0d5d88d",
   "metadata": {},
   "outputs": [
    {
     "data": {
      "text/plain": [
       "array([[0, 1],\n",
       "       [0, 1],\n",
       "       [0, 1],\n",
       "       ...,\n",
       "       [0, 1],\n",
       "       [0, 1],\n",
       "       [0, 1]])"
      ]
     },
     "execution_count": 84,
     "metadata": {},
     "output_type": "execute_result"
    }
   ],
   "source": [
    "np.array(y_test)"
   ]
  },
  {
   "cell_type": "code",
   "execution_count": 81,
   "id": "11e9e5bb-dccd-4eba-8324-6bb1221f21bd",
   "metadata": {},
   "outputs": [
    {
     "name": "stdout",
     "output_type": "stream",
     "text": [
      "547/547 [==============================] - 1s 2ms/step\n"
     ]
    },
    {
     "data": {
      "text/plain": [
       "array([1, 0, 1, ..., 1, 1, 0], dtype=int64)"
      ]
     },
     "execution_count": 81,
     "metadata": {},
     "output_type": "execute_result"
    }
   ],
   "source": [
    "y_pred=np.argmax(model.predict(X_test), axis=1)\n",
    "y_pred"
   ]
  }
 ],
 "metadata": {
  "kernelspec": {
   "display_name": "Python 3 (ipykernel)",
   "language": "python",
   "name": "python3"
  },
  "language_info": {
   "codemirror_mode": {
    "name": "ipython",
    "version": 3
   },
   "file_extension": ".py",
   "mimetype": "text/x-python",
   "name": "python",
   "nbconvert_exporter": "python",
   "pygments_lexer": "ipython3",
   "version": "3.11.5"
  }
 },
 "nbformat": 4,
 "nbformat_minor": 5
}
