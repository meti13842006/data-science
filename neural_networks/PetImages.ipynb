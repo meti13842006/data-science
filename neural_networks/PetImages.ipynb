{
 "cells": [
  {
   "cell_type": "code",
   "execution_count": 1,
   "id": "6891ac81-c398-4a8a-b809-b23e674602ae",
   "metadata": {},
   "outputs": [],
   "source": [
    "from tensorflow.keras.utils import to_categorical\n",
    "from tensorflow.keras.models import Sequential\n",
    "from tensorflow.keras.layers import Conv2D, MaxPool2D, Dense, Flatten, Dropout\n",
    "from tensorflow.keras.optimizers import Adam\n",
    "from tensorflow.keras.preprocessing.image import ImageDataGenerator"
   ]
  },
  {
   "cell_type": "code",
   "execution_count": 2,
   "id": "2b79d249-c3cc-4edf-857c-8e0bbd49631d",
   "metadata": {},
   "outputs": [
    {
     "name": "stdout",
     "output_type": "stream",
     "text": [
      "Found 1000 images belonging to 2 classes.\n",
      "Found 1666 images belonging to 2 classes.\n"
     ]
    }
   ],
   "source": [
    "image_data_train=ImageDataGenerator(\n",
    "    rescale=1.0/255.0,\n",
    "    zoom_range=0.4,\n",
    "    horizontal_flip=True,\n",
    "    vertical_flip=True,\n",
    "    rotation_range=50,\n",
    "    width_shift_range=0.3,\n",
    "    height_shift_range=0.3,\n",
    "    shear_range=0.4,\n",
    "    fill_mode='nearest'\n",
    ")\n",
    "\n",
    "image_data_test=ImageDataGenerator(\n",
    "    rescale=1.0/255.0,\n",
    ")\n",
    "\n",
    "train = image_data_train.flow_from_directory('PetImages/', class_mode='binary', batch_size=20, target_size=(200, 200))\n",
    "test= image_data_test.flow_from_directory('PetImagesTest/', class_mode='binary', batch_size=20, target_size=(200, 200))"
   ]
  },
  {
   "cell_type": "code",
   "execution_count": 3,
   "id": "ffe954f1-3cd9-43ee-818c-57cd4d791ca0",
   "metadata": {},
   "outputs": [],
   "source": [
    "model= Sequential()\n",
    "model.add(Conv2D(32, (3, 3), activation='relu', padding='same', input_shape=(200, 200, 3)))\n",
    "model.add(MaxPool2D(pool_size=(2,2)))\n",
    "model.add(Conv2D(64, (3, 3), activation='relu'))\n",
    "model.add(MaxPool2D(pool_size=(2,2)))\n",
    "model.add(Flatten())\n",
    "model.add(Dense(128, activation='relu'))\n",
    "model.add(Dense(1, activation='sigmoid'))"
   ]
  },
  {
   "cell_type": "code",
   "execution_count": 4,
   "id": "9e71f347-59df-426c-bf65-9fb2437c3cd0",
   "metadata": {},
   "outputs": [],
   "source": [
    "model.compile(optimizer=Adam(), loss='binary_crossentropy', metrics=['accuracy'])"
   ]
  },
  {
   "cell_type": "code",
   "execution_count": 5,
   "id": "12275de0-b1d4-48fa-9860-f1662a9144c2",
   "metadata": {},
   "outputs": [
    {
     "name": "stdout",
     "output_type": "stream",
     "text": [
      "Epoch 1/3\n",
      "50/50 [==============================] - 818s 16s/step - loss: 1.0191 - accuracy: 0.5170 - val_loss: 0.6901 - val_accuracy: 0.5996\n",
      "Epoch 2/3\n",
      "50/50 [==============================] - 712s 14s/step - loss: 0.6902 - accuracy: 0.5610 - val_loss: 0.6868 - val_accuracy: 0.5660\n",
      "Epoch 3/3\n",
      "50/50 [==============================] - 642s 13s/step - loss: 0.6870 - accuracy: 0.5600 - val_loss: 0.6684 - val_accuracy: 0.6014\n"
     ]
    }
   ],
   "source": [
    "history = model.fit(train, steps_per_epoch=len(train), validation_data=test, validation_steps=len(test), epochs=3)"
   ]
  }
 ],
 "metadata": {
  "kernelspec": {
   "display_name": "Python 3 (ipykernel)",
   "language": "python",
   "name": "python3"
  },
  "language_info": {
   "codemirror_mode": {
    "name": "ipython",
    "version": 3
   },
   "file_extension": ".py",
   "mimetype": "text/x-python",
   "name": "python",
   "nbconvert_exporter": "python",
   "pygments_lexer": "ipython3",
   "version": "3.11.5"
  }
 },
 "nbformat": 4,
 "nbformat_minor": 5
}
