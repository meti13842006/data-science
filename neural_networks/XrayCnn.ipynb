{
 "cells": [
  {
   "cell_type": "code",
   "execution_count": 1,
   "id": "5fc13ff6-8c36-403a-a410-2c77c8000509",
   "metadata": {},
   "outputs": [],
   "source": [
    "import numpy as np\n",
    "import pandas as pd\n",
    "import matplotlib.pyplot as plt\n",
    "from tensorflow.keras.preprocessing.image import ImageDataGenerator\n",
    "from tensorflow.keras.models import Sequential\n",
    "from tensorflow.keras.layers import Conv2D, MaxPool2D, Flatten, Dense\n",
    "from tensorflow.keras.callbacks import EarlyStopping, ReduceLROnPlateau\n",
    "from tensorflow.keras.utils import plot_model\n",
    "from sklearn.utils.class_weight import compute_class_weight\n",
    "from tensorflow.keras.callbacks import ModelCheckpoint"
   ]
  },
  {
   "cell_type": "code",
   "execution_count": 2,
   "id": "83d39ed7-0c19-4b49-9efc-d95642f2d03e",
   "metadata": {},
   "outputs": [],
   "source": [
    "image_generator = ImageDataGenerator(\n",
    "    rescale=1./255.,\n",
    "    shear_range=0.1,\n",
    "    zoom_range=0.3,\n",
    ")\n",
    "image_generator_test = ImageDataGenerator(\n",
    "    rescale=1./255.\n",
    ")"
   ]
  },
  {
   "cell_type": "code",
   "execution_count": 3,
   "id": "614590d1-e31b-49fb-ab8e-52d220d5f71a",
   "metadata": {},
   "outputs": [
    {
     "name": "stdout",
     "output_type": "stream",
     "text": [
      "Found 550 images belonging to 2 classes.\n"
     ]
    }
   ],
   "source": [
    "train_data = image_generator.flow_from_directory(\n",
    "    'data_xray',\n",
    "    target_size=(500, 500),\n",
    "    color_mode='grayscale',\n",
    "    class_mode='binary',\n",
    "    batch_size=10\n",
    ")"
   ]
  },
  {
   "cell_type": "code",
   "execution_count": 4,
   "id": "e9227351-c35c-4a5d-a268-c73bc68a5a74",
   "metadata": {},
   "outputs": [
    {
     "name": "stdout",
     "output_type": "stream",
     "text": [
      "Found 74 images belonging to 2 classes.\n"
     ]
    }
   ],
   "source": [
    "test_data = image_generator_test.flow_from_directory(\n",
    "    'test_data_xray',\n",
    "    target_size=(500, 500),\n",
    "    color_mode='grayscale',\n",
    "    class_mode='binary',\n",
    "    batch_size=10\n",
    ")"
   ]
  },
  {
   "cell_type": "code",
   "execution_count": 5,
   "id": "a3312719-8181-4ec5-9e5b-89b0a0eaf80c",
   "metadata": {},
   "outputs": [],
   "source": [
    "model = Sequential()\n",
    "model.add(Conv2D(32, (3, 3), activation='relu', input_shape=(500, 500, 1)))\n",
    "model.add(MaxPool2D(pool_size=(2, 2)))\n",
    "model.add(Conv2D(64, (3, 3), activation='relu'))\n",
    "model.add(MaxPool2D(pool_size=(2, 2)))\n",
    "model.add(Flatten())\n",
    "model.add(Dense(128, activation='relu'))\n",
    "model.add(Dense(64, activation='relu'))\n",
    "model.add(Dense(1, activation='sigmoid'))"
   ]
  },
  {
   "cell_type": "code",
   "execution_count": 6,
   "id": "b484a6bc-bf90-4b3e-a29a-531e405517c0",
   "metadata": {},
   "outputs": [],
   "source": [
    "model.compile(optimizer='adam', loss='binary_crossentropy', metrics=['accuracy'])"
   ]
  },
  {
   "cell_type": "code",
   "execution_count": 7,
   "id": "dab76ed7-c513-4c5d-9c27-37140cf99323",
   "metadata": {},
   "outputs": [],
   "source": [
    "weights = compute_class_weight(class_weight='balanced', classes=np.unique(train_data.classes), y=train_data.classes)"
   ]
  },
  {
   "cell_type": "code",
   "execution_count": 8,
   "id": "4a9e7f62-3964-429f-b8bd-0312547801d9",
   "metadata": {},
   "outputs": [],
   "source": [
    "class_weights = dict(zip(np.unique(train_data.classes), weights))"
   ]
  },
  {
   "cell_type": "code",
   "execution_count": 9,
   "id": "f8411dd3-66e4-4779-8ea8-6a467f06bfac",
   "metadata": {},
   "outputs": [],
   "source": [
    "es = EarlyStopping(monitor='val_loss', mode='min', patience=5)\n",
    "rlrop = ReduceLROnPlateau(monitor='val_loss', patience=2, factor=0.2, min_lr=0.001)"
   ]
  },
  {
   "cell_type": "code",
   "execution_count": 10,
   "id": "3f59429a-7443-4145-a660-773e98b20cd4",
   "metadata": {},
   "outputs": [],
   "source": [
    "mch = ModelCheckpoint('chestxray.h5', monitor='val_loss', mode='min', save_best_only=True)"
   ]
  },
  {
   "cell_type": "code",
   "execution_count": null,
   "id": "78ff17f6-b232-4424-bef9-0f6a7129e370",
   "metadata": {},
   "outputs": [
    {
     "name": "stdout",
     "output_type": "stream",
     "text": [
      "Epoch 1/30\n",
      "55/55 [==============================] - 2494s 45s/step - loss: 0.9598 - accuracy: 0.6564 - val_loss: 0.6494 - val_accuracy: 0.5405 - lr: 0.0010\n",
      "Epoch 2/30\n",
      "55/55 [==============================] - 1938s 35s/step - loss: 0.6166 - accuracy: 0.7291 - val_loss: 0.4657 - val_accuracy: 0.8378 - lr: 0.0010\n",
      "Epoch 3/30\n"
     ]
    }
   ],
   "source": [
    "history = model.fit(train_data, steps_per_epoch=len(train_data), epochs=30, validation_data=test_data, validation_steps=len(test_data), callbacks=[es, rlrop, mch], class_weight=class_weights)"
   ]
  },
  {
   "cell_type": "code",
   "execution_count": null,
   "id": "18a19f83-e016-42b1-a114-560912ca69ed",
   "metadata": {},
   "outputs": [],
   "source": []
  }
 ],
 "metadata": {
  "kernelspec": {
   "display_name": "Python 3 (ipykernel)",
   "language": "python",
   "name": "python3"
  },
  "language_info": {
   "codemirror_mode": {
    "name": "ipython",
    "version": 3
   },
   "file_extension": ".py",
   "mimetype": "text/x-python",
   "name": "python",
   "nbconvert_exporter": "python",
   "pygments_lexer": "ipython3",
   "version": "3.11.5"
  }
 },
 "nbformat": 4,
 "nbformat_minor": 5
}
