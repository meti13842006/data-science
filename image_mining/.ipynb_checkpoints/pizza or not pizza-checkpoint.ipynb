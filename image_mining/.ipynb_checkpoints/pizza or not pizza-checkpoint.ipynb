{
 "cells": [
  {
   "cell_type": "code",
   "execution_count": 1,
   "id": "4ef6c9f3-4b77-452b-a36e-dc08d6e6e0fa",
   "metadata": {},
   "outputs": [],
   "source": [
    "import pandas as pd\n",
    "import numpy as np \n",
    "import zipfile\n",
    "import os\n",
    "import glob"
   ]
  },
  {
   "cell_type": "code",
   "execution_count": 2,
   "id": "6c2fc171-4fdb-459f-88c9-0c73ac9dc812",
   "metadata": {},
   "outputs": [],
   "source": [
    "with zipfile.ZipFile('archive (3).zip', 'r') as zip_ref:\n",
    "    zip_ref.extractall()"
   ]
  },
  {
   "cell_type": "code",
   "execution_count": 3,
   "id": "c46bb5ab-7a02-48d2-95f3-c89e5da28e00",
   "metadata": {},
   "outputs": [],
   "source": [
    "main_file='pizza_not_pizza'\n",
    "list_of_files=['pizza', 'not_pizza']"
   ]
  },
  {
   "cell_type": "code",
   "execution_count": 4,
   "id": "187fa1d1-0c81-4e5a-9b0f-b4ce0bda1175",
   "metadata": {},
   "outputs": [],
   "source": [
    "for i in list_of_files:\n",
    "    current_path=os.path.join(main_file, i)\n",
    "    images_path=sorted(glob.glob(f'{current_path}\\*.jpg'))\n",
    "    for index , image_path in enumerate(images_path, start=1):\n",
    "        original = image_path\n",
    "        image_file_name=f'{str(index)}.jpg'\n",
    "        path_of_image=os.path.join(current_path ,image_file_name)\n",
    "        try:\n",
    "            os.rename(original, path_of_image)\n",
    "        except:\n",
    "            os.remove(image_path)\n"
   ]
  }
 ],
 "metadata": {
  "kernelspec": {
   "display_name": "Python 3 (ipykernel)",
   "language": "python",
   "name": "python3"
  },
  "language_info": {
   "codemirror_mode": {
    "name": "ipython",
    "version": 3
   },
   "file_extension": ".py",
   "mimetype": "text/x-python",
   "name": "python",
   "nbconvert_exporter": "python",
   "pygments_lexer": "ipython3",
   "version": "3.11.5"
  }
 },
 "nbformat": 4,
 "nbformat_minor": 5
}
